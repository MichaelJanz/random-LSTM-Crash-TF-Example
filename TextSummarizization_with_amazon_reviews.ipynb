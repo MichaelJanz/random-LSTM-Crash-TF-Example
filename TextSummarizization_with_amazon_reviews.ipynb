{
 "cells": [
  {
   "cell_type": "code",
   "execution_count": 1,
   "metadata": {},
   "outputs": [
    {
     "ename": "NameError",
     "evalue": "name 'tf' is not defined",
     "output_type": "error",
     "traceback": [
      "\u001b[1;31m---------------------------------------------------------------------------\u001b[0m",
      "\u001b[1;31mNameError\u001b[0m                                 Traceback (most recent call last)",
      "\u001b[1;32m<ipython-input-1-3f8719ff6c39>\u001b[0m in \u001b[0;36m<module>\u001b[1;34m\u001b[0m\n\u001b[1;32m----> 1\u001b[1;33m \u001b[0mtf\u001b[0m\u001b[1;33m.\u001b[0m\u001b[0mconfig\u001b[0m\u001b[1;33m.\u001b[0m\u001b[0mlist_physical_devices\u001b[0m\u001b[1;33m(\u001b[0m\u001b[1;34m'GPU'\u001b[0m\u001b[1;33m)\u001b[0m\u001b[1;33m\u001b[0m\u001b[1;33m\u001b[0m\u001b[0m\n\u001b[0m",
      "\u001b[1;31mNameError\u001b[0m: name 'tf' is not defined"
     ]
    }
   ],
   "source": [
    "tf.config.list_physical_devices('GPU')"
   ]
  },
  {
   "cell_type": "code",
   "execution_count": 2,
   "metadata": {},
   "outputs": [],
   "source": [
    "import tensorflow as tf\n",
    "physical_devices = tf.config.list_physical_devices('GPU')\n",
    "tf.config.experimental.set_memory_growth(physical_devices[0], enable=True)"
   ]
  },
  {
   "cell_type": "code",
   "execution_count": 3,
   "metadata": {},
   "outputs": [],
   "source": [
    "from attention_layer import AttentionLayer"
   ]
  },
  {
   "cell_type": "code",
   "execution_count": 4,
   "metadata": {},
   "outputs": [
    {
     "name": "stderr",
     "output_type": "stream",
     "text": [
      "[nltk_data] Downloading package stopwords to\n",
      "[nltk_data]     C:\\Users\\Science\\AppData\\Roaming\\nltk_data...\n",
      "[nltk_data]   Package stopwords is already up-to-date!\n"
     ]
    }
   ],
   "source": [
    "import numpy as np  \n",
    "import pandas as pd \n",
    "import re           \n",
    "from bs4 import BeautifulSoup \n",
    "from tensorflow.keras.preprocessing.text import Tokenizer \n",
    "from tensorflow.keras.preprocessing.sequence import pad_sequences\n",
    "from nltk.corpus import stopwords   \n",
    "import nltk\n",
    "nltk.download(\"stopwords\")\n",
    "from tensorflow.keras.layers import Input, LSTM, Embedding, Dense, Concatenate, TimeDistributed, Bidirectional\n",
    "from tensorflow.keras.models import Model\n",
    "from tensorflow.keras.callbacks import EarlyStopping\n",
    "import warnings\n",
    "pd.set_option(\"display.max_colwidth\", 200)\n",
    "warnings.filterwarnings(\"ignore\")\n",
    "import json"
   ]
  },
  {
   "cell_type": "code",
   "execution_count": 5,
   "metadata": {},
   "outputs": [],
   "source": [
    "#load 10k reviews:\n",
    "data_reviews={}\n",
    "len_reviews = 10000\n",
    "with open(\"data/reviews_Kindle_Store_5.json\",\"r\") as reader:\n",
    "    for i in range(len_reviews):\n",
    "        line = reader.readline()\n",
    "        if line ==\"\":\n",
    "            print(f\"Reached EOF at {i}\")\n",
    "            break\n",
    "        json_line = json.loads(line)\n",
    "        # Too short\n",
    "        if len(json_line[\"reviewText\"]) < 50:\n",
    "            continue\n",
    "        if json_line[\"asin\"] in data_reviews:\n",
    "            data_reviews[json_line[\"asin\"]].append('sostock '+  json_line[\"reviewText\"] + ' eostock')\n",
    "        else:\n",
    "            data_reviews[json_line[\"asin\"]] = ['sostock '+ json_line[\"reviewText\"] + ' eostock']\n"
   ]
  },
  {
   "cell_type": "code",
   "execution_count": 6,
   "metadata": {},
   "outputs": [
    {
     "name": "stdout",
     "output_type": "stream",
     "text": [
      "remaining asins:340\n"
     ]
    }
   ],
   "source": [
    "# Delete those asins, with less than 5 reviews\n",
    "kv = dict(data_reviews)\n",
    "for k,v in kv.items():\n",
    "    if len(v) < 10:\n",
    "        data_reviews.pop(k)\n",
    "        \n",
    "len_reviews = len(data_reviews)\n",
    "print(\"remaining asins:\" + str(len(data_reviews)))"
   ]
  },
  {
   "cell_type": "code",
   "execution_count": 7,
   "metadata": {},
   "outputs": [
    {
     "name": "stderr",
     "output_type": "stream",
     "text": [
      "14920it [00:02, 6780.30it/s]"
     ]
    },
    {
     "name": "stdout",
     "output_type": "stream",
     "text": [
      "Found all books\n"
     ]
    },
    {
     "name": "stderr",
     "output_type": "stream",
     "text": [
      "\n"
     ]
    }
   ],
   "source": [
    "import ast\n",
    "from tqdm import tqdm\n",
    "data_descriptions = {}\n",
    "for line in tqdm(open(\"data/meta_Kindle_Store.json\", \"r\")):\n",
    "    if(len(data_descriptions) == len_reviews):\n",
    "        print(\"Found all books\")\n",
    "        break;\n",
    "    json_line= ast.literal_eval(line)\n",
    "    if json_line[\"asin\"] in data_reviews:\n",
    "        if \"description\" in json_line:\n",
    "            if len(json_line[\"description\"]) > 200:\n",
    "                data_descriptions[json_line[\"asin\"]] = 'sostock '+ json_line[\"description\"] + ' eostock'\n",
    "            else:\n",
    "                data_descriptions[json_line[\"asin\"]] = \"NO_DESCRIPTION\"\n",
    "        else:\n",
    "            data_descriptions[json_line[\"asin\"]] = \"NO_DESCRIPTION\""
   ]
  },
  {
   "cell_type": "code",
   "execution_count": 8,
   "metadata": {},
   "outputs": [],
   "source": [
    "# Remove all asins with no description"
   ]
  },
  {
   "cell_type": "code",
   "execution_count": 9,
   "metadata": {},
   "outputs": [
    {
     "name": "stdout",
     "output_type": "stream",
     "text": [
      "remaining reviews after clearing asins without description and too less reviews: 103\n",
      "remaining descriptions after clearing asins without description and too less reviews: 103\n"
     ]
    }
   ],
   "source": [
    "kv = dict(data_descriptions)\n",
    "for k,v in kv.items():\n",
    "    if not k in data_reviews:\n",
    "        data_descriptions.pop(k)\n",
    "        continue\n",
    "    \n",
    "    if v ==\"NO_DESCRIPTION\":\n",
    "        data_reviews.pop(k)\n",
    "        data_descriptions.pop(k)\n",
    "        \n",
    "print(f\"remaining reviews after clearing asins without description and too less reviews: {len(data_reviews)}\")\n",
    "print(f\"remaining descriptions after clearing asins without description and too less reviews: {len(data_descriptions)}\")"
   ]
  },
  {
   "cell_type": "code",
   "execution_count": 10,
   "metadata": {},
   "outputs": [],
   "source": [
    "from numpy.random import default_rng"
   ]
  },
  {
   "cell_type": "code",
   "execution_count": 12,
   "metadata": {},
   "outputs": [
    {
     "name": "stdout",
     "output_type": "stream",
     "text": [
      "dropped: 69\n",
      "count reviews: 1476\n"
     ]
    }
   ],
   "source": [
    "def generate_review_corpora(reviews_data, asin, all_descriptions, count = 5, min_length_reviews=3000 , max_length_reviews=3000):\n",
    "    def_rng = default_rng()\n",
    "    x_reviews_temp = []\n",
    "    y_descriptions_temp = []\n",
    "    dropped = 0\n",
    "    for i in range(0, count):\n",
    "        \n",
    "        rand_ids = def_rng.choice(range(0,len(reviews_data)), len(reviews_data), replace=False)\n",
    "        temp_review = \"\"\n",
    "        for i2 in range(len(rand_ids)):\n",
    "            if(len(temp_review) + len(reviews_data[rand_ids[i2]]) < max_length_reviews):\n",
    "                temp_review = temp_review + \" \" + reviews_data[i2]\n",
    "            else:\n",
    "                break\n",
    "        if(len(temp_review) >= min_length_reviews):\n",
    "            x_reviews_temp.append(temp_review)\n",
    "            y_descriptions_temp.append(all_descriptions[asin])\n",
    "        else:\n",
    "            dropped = dropped + 1\n",
    "          \n",
    "    return x_reviews_temp, y_descriptions_temp, dropped, len(x_reviews_temp)\n",
    "\n",
    "x = []\n",
    "y = []\n",
    "dropped = 0\n",
    "len_reviews = 0\n",
    "for asin in data_reviews.keys():\n",
    "    reviews = data_reviews[asin]\n",
    "    x_temp, y_temp, dropped_temp, len_reviews_temp = generate_review_corpora(reviews, asin, data_descriptions, count=15, max_length_reviews=8000)\n",
    "    x.extend(x_temp)\n",
    "    y.extend(y_temp)\n",
    "    dropped = dropped + dropped_temp\n",
    "    len_reviews = len_reviews + len_reviews_temp\n",
    "print(f\"dropped: {dropped}\")\n",
    "print(f\"count reviews: {len_reviews}\")"
   ]
  },
  {
   "cell_type": "code",
   "execution_count": null,
   "metadata": {},
   "outputs": [],
   "source": [
    "for i in range(50):\n",
    "    print(f\"{x[i][:100]}\\r\\n----------\\r\\n{y[i][:100]}\")"
   ]
  },
  {
   "cell_type": "code",
   "execution_count": 13,
   "metadata": {},
   "outputs": [],
   "source": [
    "import pickle\n",
    "pickle.dump(x, open(\"x\", \"wb\"))\n",
    "pickle.dump(y, open(\"y\", \"wb\"))"
   ]
  },
  {
   "cell_type": "code",
   "execution_count": 11,
   "metadata": {},
   "outputs": [],
   "source": [
    "import pickle\n",
    "x = pickle.load(open(\"x\", \"rb\"))\n",
    "y = pickle.load(open(\"y\", \"rb\"))"
   ]
  },
  {
   "cell_type": "code",
   "execution_count": 12,
   "metadata": {},
   "outputs": [],
   "source": [
    "data = pd.DataFrame(data={\"Text\":x, \"Summary\": y})"
   ]
  },
  {
   "cell_type": "code",
   "execution_count": 13,
   "metadata": {},
   "outputs": [],
   "source": [
    "data.drop_duplicates(subset=['Text'],inplace=True)  #dropping duplicates\n",
    "data.dropna(axis=0,inplace=True)   #dropping na"
   ]
  },
  {
   "cell_type": "code",
   "execution_count": 14,
   "metadata": {},
   "outputs": [],
   "source": [
    "contraction_mapping = {\"ain't\": \"is not\", \"aren't\": \"are not\",\"can't\": \"cannot\", \"'cause\": \"because\", \"could've\": \"could have\", \"couldn't\": \"could not\",\n",
    "\n",
    "                           \"didn't\": \"did not\", \"doesn't\": \"does not\", \"don't\": \"do not\", \"hadn't\": \"had not\", \"hasn't\": \"has not\", \"haven't\": \"have not\",\n",
    "\n",
    "                           \"he'd\": \"he would\",\"he'll\": \"he will\", \"he's\": \"he is\", \"how'd\": \"how did\", \"how'd'y\": \"how do you\", \"how'll\": \"how will\", \"how's\": \"how is\",\n",
    "\n",
    "                           \"I'd\": \"I would\", \"I'd've\": \"I would have\", \"I'll\": \"I will\", \"I'll've\": \"I will have\",\"I'm\": \"I am\", \"I've\": \"I have\", \"i'd\": \"i would\",\n",
    "\n",
    "                           \"i'd've\": \"i would have\", \"i'll\": \"i will\",  \"i'll've\": \"i will have\",\"i'm\": \"i am\", \"i've\": \"i have\", \"isn't\": \"is not\", \"it'd\": \"it would\",\n",
    "\n",
    "                           \"it'd've\": \"it would have\", \"it'll\": \"it will\", \"it'll've\": \"it will have\",\"it's\": \"it is\", \"let's\": \"let us\", \"ma'am\": \"madam\",\n",
    "\n",
    "                           \"mayn't\": \"may not\", \"might've\": \"might have\",\"mightn't\": \"might not\",\"mightn't've\": \"might not have\", \"must've\": \"must have\",\n",
    "\n",
    "                           \"mustn't\": \"must not\", \"mustn't've\": \"must not have\", \"needn't\": \"need not\", \"needn't've\": \"need not have\",\"o'clock\": \"of the clock\",\n",
    "\n",
    "                           \"oughtn't\": \"ought not\", \"oughtn't've\": \"ought not have\", \"shan't\": \"shall not\", \"sha'n't\": \"shall not\", \"shan't've\": \"shall not have\",\n",
    "\n",
    "                           \"she'd\": \"she would\", \"she'd've\": \"she would have\", \"she'll\": \"she will\", \"she'll've\": \"she will have\", \"she's\": \"she is\",\n",
    "\n",
    "                           \"should've\": \"should have\", \"shouldn't\": \"should not\", \"shouldn't've\": \"should not have\", \"so've\": \"so have\",\"so's\": \"so as\",\n",
    "\n",
    "                           \"this's\": \"this is\",\"that'd\": \"that would\", \"that'd've\": \"that would have\", \"that's\": \"that is\", \"there'd\": \"there would\",\n",
    "\n",
    "                           \"there'd've\": \"there would have\", \"there's\": \"there is\", \"here's\": \"here is\",\"they'd\": \"they would\", \"they'd've\": \"they would have\",\n",
    "\n",
    "                           \"they'll\": \"they will\", \"they'll've\": \"they will have\", \"they're\": \"they are\", \"they've\": \"they have\", \"to've\": \"to have\",\n",
    "\n",
    "                           \"wasn't\": \"was not\", \"we'd\": \"we would\", \"we'd've\": \"we would have\", \"we'll\": \"we will\", \"we'll've\": \"we will have\", \"we're\": \"we are\",\n",
    "\n",
    "                           \"we've\": \"we have\", \"weren't\": \"were not\", \"what'll\": \"what will\", \"what'll've\": \"what will have\", \"what're\": \"what are\",\n",
    "\n",
    "                           \"what's\": \"what is\", \"what've\": \"what have\", \"when's\": \"when is\", \"when've\": \"when have\", \"where'd\": \"where did\", \"where's\": \"where is\",\n",
    "\n",
    "                           \"where've\": \"where have\", \"who'll\": \"who will\", \"who'll've\": \"who will have\", \"who's\": \"who is\", \"who've\": \"who have\",\n",
    "\n",
    "                           \"why's\": \"why is\", \"why've\": \"why have\", \"will've\": \"will have\", \"won't\": \"will not\", \"won't've\": \"will not have\",\n",
    "\n",
    "                           \"would've\": \"would have\", \"wouldn't\": \"would not\", \"wouldn't've\": \"would not have\", \"y'all\": \"you all\",\n",
    "\n",
    "                           \"y'all'd\": \"you all would\",\"y'all'd've\": \"you all would have\",\"y'all're\": \"you all are\",\"y'all've\": \"you all have\",\n",
    "\n",
    "                           \"you'd\": \"you would\", \"you'd've\": \"you would have\", \"you'll\": \"you will\", \"you'll've\": \"you will have\",\n",
    "\n",
    "                           \"you're\": \"you are\", \"you've\": \"you have\"}"
   ]
  },
  {
   "cell_type": "code",
   "execution_count": 15,
   "metadata": {},
   "outputs": [
    {
     "data": {
      "text/plain": [
       "0     sostock He had an english accent which he seemed trying to hide. I don't know this, but my impression is that europeons now own the WSJ.England s a great country, but I'm suspicious of europeon s...\n",
       "Name: Text, dtype: object"
      ]
     },
     "execution_count": 15,
     "metadata": {},
     "output_type": "execute_result"
    }
   ],
   "source": [
    "data['Text'][:1]"
   ]
  },
  {
   "cell_type": "code",
   "execution_count": 16,
   "metadata": {},
   "outputs": [
    {
     "data": {
      "text/plain": [
       "8438"
      ]
     },
     "execution_count": 16,
     "metadata": {},
     "output_type": "execute_result"
    }
   ],
   "source": [
    "len(data['Text'][0])"
   ]
  },
  {
   "cell_type": "code",
   "execution_count": 17,
   "metadata": {},
   "outputs": [
    {
     "data": {
      "text/plain": [
       "1198"
      ]
     },
     "execution_count": 17,
     "metadata": {},
     "output_type": "execute_result"
    }
   ],
   "source": [
    "len(data['Summary'][0])"
   ]
  },
  {
   "cell_type": "code",
   "execution_count": 18,
   "metadata": {},
   "outputs": [],
   "source": [
    "stop_words = set(stopwords.words('english')) \n",
    "def text_cleaner(text):\n",
    "    newString = text.lower()\n",
    "    newString = BeautifulSoup(newString, \"lxml\").text\n",
    "    newString = re.sub(r'\\([^)]*\\)', '', newString)\n",
    "    newString = re.sub('\"','', newString)\n",
    "    newString = ' '.join([contraction_mapping[t] if t in contraction_mapping else t for t in newString.split(\" \")])    \n",
    "    newString = re.sub(r\"'s\\b\",\"\",newString)\n",
    "    newString = re.sub(\"[^a-zA-Z]\", \" \", newString) \n",
    "    tokens = [w for w in newString.split() if not w in stop_words]\n",
    "    long_words=[]\n",
    "    for i in tokens:\n",
    "        if len(i)>=3:                  #removing short word\n",
    "            long_words.append(i)   \n",
    "    return (\" \".join(long_words)).strip()\n",
    "\n",
    "cleaned_text = []\n",
    "for t in data['Text']:\n",
    "    cleaned_text.append(text_cleaner(t))"
   ]
  },
  {
   "cell_type": "code",
   "execution_count": 19,
   "metadata": {},
   "outputs": [
    {
     "data": {
      "text/plain": [
       "0    sostock Few newspapers enjoy the prestige and authority of The Wall Street Journal. The Wall Street Journal is where America starts its business day. This daily paper publishes the latest in news ...\n",
       "Name: Summary, dtype: object"
      ]
     },
     "execution_count": 19,
     "metadata": {},
     "output_type": "execute_result"
    }
   ],
   "source": [
    "data['Summary'][:1]"
   ]
  },
  {
   "cell_type": "code",
   "execution_count": 20,
   "metadata": {},
   "outputs": [],
   "source": [
    "def summary_cleaner(text):\n",
    "    newString = re.sub('\"','', text)\n",
    "    newString = ' '.join([contraction_mapping[t] if t in contraction_mapping else t for t in newString.split(\" \")])    \n",
    "    newString = re.sub(r\"'s\\b\",\"\",newString)\n",
    "    newString = re.sub(\"[^a-zA-Z]\", \" \", newString)\n",
    "    newString = newString.lower()\n",
    "    tokens=newString.split()\n",
    "    newString=''\n",
    "    for i in tokens:\n",
    "        if len(i)>1:                                 \n",
    "            newString=newString+i+' '  \n",
    "    return newString\n",
    "\n",
    "#Call the above function\n",
    "cleaned_summary = []\n",
    "for t in data['Summary']:\n",
    "    cleaned_summary.append(summary_cleaner(t))\n",
    "\n",
    "data['cleaned_text']=cleaned_text\n",
    "data['cleaned_summary']=cleaned_summary\n",
    "data['cleaned_summary'].replace('', np.nan, inplace=True)\n",
    "data.dropna(axis=0,inplace=True)"
   ]
  },
  {
   "cell_type": "code",
   "execution_count": 21,
   "metadata": {},
   "outputs": [],
   "source": [
    "#data['cleaned_summary'] = data['cleaned_summary'].apply(lambda x : 'sostock '+ x + ' eostock')"
   ]
  },
  {
   "cell_type": "code",
   "execution_count": 22,
   "metadata": {},
   "outputs": [],
   "source": [
    "data.reset_index(drop=True, inplace=True)"
   ]
  },
  {
   "cell_type": "code",
   "execution_count": 23,
   "metadata": {},
   "outputs": [
    {
     "data": {
      "text/plain": [
       "'sostock subscriptions include full access to breaking news articles video audio multimedia and blogs on nytimes com the new york times on kindle is dedicated to providing news coverage of exceptional depth and breadth as well as opinion that is thoughtful and stimulating widely quoted and often hotly debated the new york times is held by its readers to the highest of standards and continues to be regarded by many as the nation pre eminent newspaper the new york times has earned an unprecedented pulitzer prizes far more than any other newspaper global news staff covers wide range of interests from world national and new york issues to business culture science religion travel style food sports health and home in addition to outside contributors the editorials page features the new york times own team of award winning columnists david brooks maureen dowd thomas friedman bob herbert nicholas kristof paul krugman frank rich and john tierney the kindle edition of the new york times contains articles found in the print edition but will not include some images and tables also some features such as the crossword puzzle box scores and classifieds are not currently available for your convenience issues are automatically delivered wirelessly to your kindle at am on the weekdays and am on weekends new york city local time eostock '"
      ]
     },
     "execution_count": 23,
     "metadata": {},
     "output_type": "execute_result"
    }
   ],
   "source": [
    "data['cleaned_summary'][5]"
   ]
  },
  {
   "cell_type": "code",
   "execution_count": 24,
   "metadata": {},
   "outputs": [
    {
     "name": "stdout",
     "output_type": "stream",
     "text": [
      "Review: sostock english accent seemed trying hide know impression europeons wsj england great country suspicious europeon socialism particular brits proud writing ability rightly would rather americans brainwashing americans bad may eostock sostock somewhat disappointment articles missed pepper salt list declared dividends currency exchange weather small things would like travel whole stack paperes waiting home stop gap travel abroad wsj available eostock sostock costs delivered door paper online version combined confusing read intuitive layout nightmare cant find anything like paper online version price went even cancelled get right like everyone else tried big let eostock sostock wsj kindle overpriced customer service gone completely haywire since newspaper bought read subscribed kindle print edition iphone app unfortunately horrible contebt delivery even though writing still superb try calling minute waits speak someone different country put hold try cancel abysmal waiting never part wsj online pinrt mobile kindle recent experiences company bought way beware eostock sostock although wsj good reporting covers news price keeps going often buy alternatives due inflated price think kindle version wsj much better sources financial news justify price difference eostock sostock occasional reader wall street journal many years never really considered subscribing part happy get news free online variety sources late craving consistent access kind high quality news stories wsj known decided check several subscription options compare kindle version even though limited many respects turns pretty good line expectations wanted get reading wsj subscribe wsj setup delivery one kindle devices enabled kindle readers also manually download current issue wsj another device automatic downloads enabled one device time kindle formatting wsj leaves lot desired may imagine reading experience much closer reading book newspaper mind much wsj always pretty text heavy newspaper exceptions graphs charts almost illegible presented kindle sections articles well organized easily accessible menu overall pleased navigation options terms formatting still prefer dedicated wsj ipad version kindle version gets job done one big difference kindle version various tablets able access various embedded videos kindle small video clips indeed lot fun definitely add overall reading experience however also add size download unless really fast wireless connection latest version tablet download choppy videos nice addition crucial far price goes yes wall street journal kindle kind expensive however keep mind principle cancel subscription without much trouble number months passed something experience easy pull print subscription newspaper consider wsj high quality publication opinion price reasonable kind content convenience get spoiled years facto free online access various newspapers magazines unfortunately free state affairs lead many fine journals newspapers shut seeking convenience ease use kindle version wsj provides concerned formatting various bells whistles would definitely recommend check far satisfied expected based negative reviews read eostock sostock big kahuna financial newspapers delivered right kindle even need get bed throne retrieve soggy paper version snowed yard read right beloved kindle problem high price get pesky drm content put kindle content like evil drm inherent kindle lets view content kindle printing articles emailing articles friend using presentations stuck evil live price restrictions drm friend eostock sostock read nearly books magazines kindle paper subscription wsj several years trouble reading small print nevertheless renewed via amazon kindle apparently mistaken belief would able read kindle first one hell time getting open kindle fire much fumbling managed serious problems app type face sizes small cannot get open ipad could continued online version ipad kindle cheaper opted amazon version thinking mistakenly would able read ipad larger screen quite disaster comes close would buy print digital combination directly use either kindle ipad special app part disaster thought ordering kindle print versions somehow managed order print version cordial conversation amazon cancelled order amazon print version nearly offer wsj bought wsj line logged kindle presto decent readable product line read kindle fire imac find ipad probably things considered product good one price extracted buying thru amazon high suppose change email eostock sostock update original review content kindle version wsj similar would find getting print edition delivered things missing stock quotes easier look read stock quotes web format makes navigating paper bit cumbersome graphs photos graphics poor kindle format helps subscription comes wsj online iphone access wsj online good iphone app terrible content via iphone app incomplete put ads considering new cost month day think cost electronic format way overpriced considering deficiencies seriously considering canceling update canceled subscription eostock\n",
      "Summary: sostock few newspapers enjoy the prestige and authority of the wall street journal the wall street journal is where america starts its business day this daily paper publishes the latest in news from the business and finance world additionally it strives to connect current domestic and international news events to business fluctuations and market changes it also seeks to inform the educated reader about pressing economic changes and evolution but the journal covers more than just business its weekend edition covers the activities and interests that readers are most passionate about travel art collecting fashion wine sports and entertainment notable columnists include james taranto bret stephens homan jenkins jr daniel henninger and mary grady please note this newspaper does not deliver on sunday the kindle edition of the wall street journal contains articles found in the print and online editions but will not include tables and stock quotes for your convenience issues are automatically delivered wirelessly to your kindle starting at am new york city local time please note that the wall street journal publishes only monday through saturday eostock \n",
      "\n",
      "\n",
      "Review: sostock english accent seemed trying hide know impression europeons wsj england great country suspicious europeon socialism particular brits proud writing ability rightly would rather americans brainwashing americans bad may eostock sostock somewhat disappointment articles missed pepper salt list declared dividends currency exchange weather small things would like travel whole stack paperes waiting home stop gap travel abroad wsj available eostock sostock costs delivered door paper online version combined confusing read intuitive layout nightmare cant find anything like paper online version price went even cancelled get right like everyone else tried big let eostock sostock wsj kindle overpriced customer service gone completely haywire since newspaper bought read subscribed kindle print edition iphone app unfortunately horrible contebt delivery even though writing still superb try calling minute waits speak someone different country put hold try cancel abysmal waiting never part wsj online pinrt mobile kindle recent experiences company bought way beware eostock sostock although wsj good reporting covers news price keeps going often buy alternatives due inflated price think kindle version wsj much better sources financial news justify price difference eostock sostock occasional reader wall street journal many years never really considered subscribing part happy get news free online variety sources late craving consistent access kind high quality news stories wsj known decided check several subscription options compare kindle version even though limited many respects turns pretty good line expectations wanted get reading wsj subscribe wsj setup delivery one kindle devices enabled kindle readers also manually download current issue wsj another device automatic downloads enabled one device time kindle formatting wsj leaves lot desired may imagine reading experience much closer reading book newspaper mind much wsj always pretty text heavy newspaper exceptions graphs charts almost illegible presented kindle sections articles well organized easily accessible menu overall pleased navigation options terms formatting still prefer dedicated wsj ipad version kindle version gets job done one big difference kindle version various tablets able access various embedded videos kindle small video clips indeed lot fun definitely add overall reading experience however also add size download unless really fast wireless connection latest version tablet download choppy videos nice addition crucial far price goes yes wall street journal kindle kind expensive however keep mind principle cancel subscription without much trouble number months passed something experience easy pull print subscription newspaper consider wsj high quality publication opinion price reasonable kind content convenience get spoiled years facto free online access various newspapers magazines unfortunately free state affairs lead many fine journals newspapers shut seeking convenience ease use kindle version wsj provides concerned formatting various bells whistles would definitely recommend check far satisfied expected based negative reviews read eostock sostock big kahuna financial newspapers delivered right kindle even need get bed throne retrieve soggy paper version snowed yard read right beloved kindle problem high price get pesky drm content put kindle content like evil drm inherent kindle lets view content kindle printing articles emailing articles friend using presentations stuck evil live price restrictions drm friend eostock sostock read nearly books magazines kindle paper subscription wsj several years trouble reading small print nevertheless renewed via amazon kindle apparently mistaken belief would able read kindle first one hell time getting open kindle fire much fumbling managed serious problems app type face sizes small cannot get open ipad could continued online version ipad kindle cheaper opted amazon version thinking mistakenly would able read ipad larger screen quite disaster comes close would buy print digital combination directly use either kindle ipad special app part disaster thought ordering kindle print versions somehow managed order print version cordial conversation amazon cancelled order amazon print version nearly offer wsj bought wsj line logged kindle presto decent readable product line read kindle fire imac find ipad probably things considered product good one price extracted buying thru amazon high suppose change email eostock\n",
      "Summary: sostock few newspapers enjoy the prestige and authority of the wall street journal the wall street journal is where america starts its business day this daily paper publishes the latest in news from the business and finance world additionally it strives to connect current domestic and international news events to business fluctuations and market changes it also seeks to inform the educated reader about pressing economic changes and evolution but the journal covers more than just business its weekend edition covers the activities and interests that readers are most passionate about travel art collecting fashion wine sports and entertainment notable columnists include james taranto bret stephens homan jenkins jr daniel henninger and mary grady please note this newspaper does not deliver on sunday the kindle edition of the wall street journal contains articles found in the print and online editions but will not include tables and stock quotes for your convenience issues are automatically delivered wirelessly to your kindle starting at am new york city local time please note that the wall street journal publishes only monday through saturday eostock \n",
      "\n",
      "\n",
      "Review: sostock english accent seemed trying hide know impression europeons wsj england great country suspicious europeon socialism particular brits proud writing ability rightly would rather americans brainwashing americans bad may eostock sostock somewhat disappointment articles missed pepper salt list declared dividends currency exchange weather small things would like travel whole stack paperes waiting home stop gap travel abroad wsj available eostock sostock costs delivered door paper online version combined confusing read intuitive layout nightmare cant find anything like paper online version price went even cancelled get right like everyone else tried big let eostock sostock wsj kindle overpriced customer service gone completely haywire since newspaper bought read subscribed kindle print edition iphone app unfortunately horrible contebt delivery even though writing still superb try calling minute waits speak someone different country put hold try cancel abysmal waiting never part wsj online pinrt mobile kindle recent experiences company bought way beware eostock sostock although wsj good reporting covers news price keeps going often buy alternatives due inflated price think kindle version wsj much better sources financial news justify price difference eostock sostock occasional reader wall street journal many years never really considered subscribing part happy get news free online variety sources late craving consistent access kind high quality news stories wsj known decided check several subscription options compare kindle version even though limited many respects turns pretty good line expectations wanted get reading wsj subscribe wsj setup delivery one kindle devices enabled kindle readers also manually download current issue wsj another device automatic downloads enabled one device time kindle formatting wsj leaves lot desired may imagine reading experience much closer reading book newspaper mind much wsj always pretty text heavy newspaper exceptions graphs charts almost illegible presented kindle sections articles well organized easily accessible menu overall pleased navigation options terms formatting still prefer dedicated wsj ipad version kindle version gets job done one big difference kindle version various tablets able access various embedded videos kindle small video clips indeed lot fun definitely add overall reading experience however also add size download unless really fast wireless connection latest version tablet download choppy videos nice addition crucial far price goes yes wall street journal kindle kind expensive however keep mind principle cancel subscription without much trouble number months passed something experience easy pull print subscription newspaper consider wsj high quality publication opinion price reasonable kind content convenience get spoiled years facto free online access various newspapers magazines unfortunately free state affairs lead many fine journals newspapers shut seeking convenience ease use kindle version wsj provides concerned formatting various bells whistles would definitely recommend check far satisfied expected based negative reviews read eostock sostock big kahuna financial newspapers delivered right kindle even need get bed throne retrieve soggy paper version snowed yard read right beloved kindle problem high price get pesky drm content put kindle content like evil drm inherent kindle lets view content kindle printing articles emailing articles friend using presentations stuck evil live price restrictions drm friend eostock\n",
      "Summary: sostock few newspapers enjoy the prestige and authority of the wall street journal the wall street journal is where america starts its business day this daily paper publishes the latest in news from the business and finance world additionally it strives to connect current domestic and international news events to business fluctuations and market changes it also seeks to inform the educated reader about pressing economic changes and evolution but the journal covers more than just business its weekend edition covers the activities and interests that readers are most passionate about travel art collecting fashion wine sports and entertainment notable columnists include james taranto bret stephens homan jenkins jr daniel henninger and mary grady please note this newspaper does not deliver on sunday the kindle edition of the wall street journal contains articles found in the print and online editions but will not include tables and stock quotes for your convenience issues are automatically delivered wirelessly to your kindle starting at am new york city local time please note that the wall street journal publishes only monday through saturday eostock \n",
      "\n",
      "\n",
      "Review: sostock thought times morning daily west coast new york nearly noon received today paper yet left wireless night reading kindle content morning standard eostock sostock month free trial well worth try say front second nyt great paper gotten newspapers due wanting cut amount trash generate got tired excessive advertising blah blah blah getting nyt wake morning remembering missing spending minutes per morning reading parts find interesting good stuff probably continue trial said agree price tad high would much comfortable less per month considering much stripped also someone nyt read bridge column last week made numerous references missing diagram understand leaving pictures vital pictures never left going leave pictures think static pictures left bridge column without diagrams pointless added items strip include diagrams good science section far miss crossword even crossword interactive would love see grid paper nyt really close think little care could something less frustrating send decided continue subscribing reading nyt bed getting awhile great way start day would still like better reading newspaper bed early morning new joy want give eostock sostock nyt way rated examples first page talked saving nation energy painting roofs white white paint special white paint government labs turns old white paint government program necesaary nyt say irresponsible area health reporting pope wrote silly article kesler book food mention head fda engaged running battles vitamin food manufacturers years many battles lost courts use aspirin heart treatment good expensive biotech drugs fda touting uncritical irresponsible reporting dereliction journalist duty economists like krugman clue save nation economy yet pontificate pages times reader encourage find better sources later continue rant posted comment nyt website response article tone reserved systematic subject blocking medical innovation medical bureaucracy government guess comment erased evidently censor comments agree may offend advertisers kind society want may agree want shut disagree hint could next objections nyt ethical moral unfortunately become government hacks rather responsible journalists eostock sostock much information packed daily issue time read read books kindle magazines news makes new york times great newspaper included kindle edition minus ads time read daily well worth monthly subscription price eostock sostock big fan times see one top newspapers one kindle download covers every edition month okay say miss looking day two still excellent price time read problem fact everyday download well worth price two listen also get access times homepage giving articles opportunity email letters sent box outline major stories day case life particularly busy like said downloading times amazon double plus pass eostock sostock enjoy reading times kindle little expensive one major indulgence kindle wise carry kindle around snatch quick reads page day night content usually fairly well formatted kindle occasional exceptions graphics rendered greyscale usually see basically going always articles list appreciate summaries article wish online content would included sections uninteresting wish could skip section still articles list eostock sostock times great read little expensive opinion reader version buy often enjoy reading news paper eostock\n",
      "Summary: sostock subscriptions include full access to breaking news articles video audio multimedia and blogs on nytimes com the new york times on kindle is dedicated to providing news coverage of exceptional depth and breadth as well as opinion that is thoughtful and stimulating widely quoted and often hotly debated the new york times is held by its readers to the highest of standards and continues to be regarded by many as the nation pre eminent newspaper the new york times has earned an unprecedented pulitzer prizes far more than any other newspaper global news staff covers wide range of interests from world national and new york issues to business culture science religion travel style food sports health and home in addition to outside contributors the editorials page features the new york times own team of award winning columnists david brooks maureen dowd thomas friedman bob herbert nicholas kristof paul krugman frank rich and john tierney the kindle edition of the new york times contains articles found in the print edition but will not include some images and tables also some features such as the crossword puzzle box scores and classifieds are not currently available for your convenience issues are automatically delivered wirelessly to your kindle at am on the weekdays and am on weekends new york city local time eostock \n",
      "\n",
      "\n",
      "Review: sostock thought times morning daily west coast new york nearly noon received today paper yet left wireless night reading kindle content morning standard eostock sostock month free trial well worth try say front second nyt great paper gotten newspapers due wanting cut amount trash generate got tired excessive advertising blah blah blah getting nyt wake morning remembering missing spending minutes per morning reading parts find interesting good stuff probably continue trial said agree price tad high would much comfortable less per month considering much stripped also someone nyt read bridge column last week made numerous references missing diagram understand leaving pictures vital pictures never left going leave pictures think static pictures left bridge column without diagrams pointless added items strip include diagrams good science section far miss crossword even crossword interactive would love see grid paper nyt really close think little care could something less frustrating send decided continue subscribing reading nyt bed getting awhile great way start day would still like better reading newspaper bed early morning new joy want give eostock sostock nyt way rated examples first page talked saving nation energy painting roofs white white paint special white paint government labs turns old white paint government program necesaary nyt say irresponsible area health reporting pope wrote silly article kesler book food mention head fda engaged running battles vitamin food manufacturers years many battles lost courts use aspirin heart treatment good expensive biotech drugs fda touting uncritical irresponsible reporting dereliction journalist duty economists like krugman clue save nation economy yet pontificate pages times reader encourage find better sources later continue rant posted comment nyt website response article tone reserved systematic subject blocking medical innovation medical bureaucracy government guess comment erased evidently censor comments agree may offend advertisers kind society want may agree want shut disagree hint could next objections nyt ethical moral unfortunately become government hacks rather responsible journalists eostock sostock much information packed daily issue time read read books kindle magazines news makes new york times great newspaper included kindle edition minus ads time read daily well worth monthly subscription price eostock sostock big fan times see one top newspapers one kindle download covers every edition month okay say miss looking day two still excellent price time read problem fact everyday download well worth price two listen also get access times homepage giving articles opportunity email letters sent box outline major stories day case life particularly busy like said downloading times amazon double plus pass eostock sostock enjoy reading times kindle little expensive one major indulgence kindle wise carry kindle around snatch quick reads page day night content usually fairly well formatted kindle occasional exceptions graphics rendered greyscale usually see basically going always articles list appreciate summaries article wish online content would included sections uninteresting wish could skip section still articles list eostock sostock times great read little expensive opinion reader version buy often enjoy reading news paper eostock sostock received one fourteen free copy nyt please end non subscription time meaning agreeable charges placed account nyt thank douglas eostock sostock big kahuna newspapers delivered right kindle even need get bed throne retrieve soggy paper version snowed yard read right beloved kindle problem high price get pesky drm content put kindle content like evil drm inherent kindle lets view content kindle printing articles emailing articles friend using presentations stuck evil live price restrictions drm friend eostock sostock periodically buy paper copy enjoy cup coffee book edition convenient whenever minutes spare available coffee shop comment buying hard copy one day book edition next day may include duplicate stories eostock\n",
      "Summary: sostock subscriptions include full access to breaking news articles video audio multimedia and blogs on nytimes com the new york times on kindle is dedicated to providing news coverage of exceptional depth and breadth as well as opinion that is thoughtful and stimulating widely quoted and often hotly debated the new york times is held by its readers to the highest of standards and continues to be regarded by many as the nation pre eminent newspaper the new york times has earned an unprecedented pulitzer prizes far more than any other newspaper global news staff covers wide range of interests from world national and new york issues to business culture science religion travel style food sports health and home in addition to outside contributors the editorials page features the new york times own team of award winning columnists david brooks maureen dowd thomas friedman bob herbert nicholas kristof paul krugman frank rich and john tierney the kindle edition of the new york times contains articles found in the print edition but will not include some images and tables also some features such as the crossword puzzle box scores and classifieds are not currently available for your convenience issues are automatically delivered wirelessly to your kindle at am on the weekdays and am on weekends new york city local time eostock \n",
      "\n",
      "\n"
     ]
    }
   ],
   "source": [
    "for i in range(5):\n",
    "    print(\"Review:\",data['cleaned_text'][i])\n",
    "    print(\"Summary:\",data['cleaned_summary'][i])\n",
    "    print(\"\\n\")"
   ]
  },
  {
   "cell_type": "code",
   "execution_count": 25,
   "metadata": {},
   "outputs": [
    {
     "data": {
      "image/png": "[encoded data removed]",
      "text/plain": [
       "<Figure size 432x288 with 2 Axes>"
      ]
     },
     "metadata": {
      "needs_background": "light"
     },
     "output_type": "display_data"
    }
   ],
   "source": [
    "import matplotlib.pyplot as plt\n",
    "text_word_count = []\n",
    "summary_word_count = []\n",
    "\n",
    "# populate the lists with sentence lengths\n",
    "for i in data['cleaned_text']:\n",
    "      text_word_count.append(len(i.split()))\n",
    "\n",
    "for i in data['cleaned_summary']:\n",
    "      summary_word_count.append(len(i.split()))\n",
    "\n",
    "length_df = pd.DataFrame({'text':text_word_count, 'summary':summary_word_count})\n",
    "length_df.hist(bins = 30)\n",
    "plt.show()"
   ]
  },
  {
   "cell_type": "markdown",
   "metadata": {},
   "source": [
    "### Check how long the summary needs to be, so we lose less data"
   ]
  },
  {
   "cell_type": "code",
   "execution_count": 26,
   "metadata": {},
   "outputs": [
    {
     "name": "stdout",
     "output_type": "stream",
     "text": [
      "0.9846743295019157\n"
     ]
    }
   ],
   "source": [
    "cnt=0\n",
    "for i in data['cleaned_text']:\n",
    "    if(len(i.split())<=910):\n",
    "        cnt=cnt+1\n",
    "print(cnt/len(data['cleaned_text']))"
   ]
  },
  {
   "cell_type": "markdown",
   "metadata": {},
   "source": [
    "### Check the same for the text length"
   ]
  },
  {
   "cell_type": "code",
   "execution_count": 21,
   "metadata": {},
   "outputs": [
    {
     "name": "stdout",
     "output_type": "stream",
     "text": [
      "1.0\n"
     ]
    }
   ],
   "source": [
    "cnt=0\n",
    "for i in data['cleaned_summary']:\n",
    "    if(len(i.split())<=390):\n",
    "        cnt=cnt+1\n",
    "print(cnt/len(data['cleaned_summary']))"
   ]
  },
  {
   "cell_type": "code",
   "execution_count": 27,
   "metadata": {},
   "outputs": [],
   "source": [
    "max_len_text=910\n",
    "max_len_summary=390\n",
    "embedding_dim = 20\n",
    "latent_dim = 250"
   ]
  },
  {
   "cell_type": "code",
   "execution_count": 23,
   "metadata": {},
   "outputs": [],
   "source": [
    "max_len_text=143\n",
    "max_len_summary=14\n",
    "embedding_dim = 300\n",
    "latent_dim = 400"
   ]
  },
  {
   "cell_type": "markdown",
   "metadata": {},
   "source": [
    "##### Define a batch size"
   ]
  },
  {
   "cell_type": "code",
   "execution_count": 28,
   "metadata": {},
   "outputs": [],
   "source": [
    "batch_size = 4"
   ]
  },
  {
   "cell_type": "code",
   "execution_count": 29,
   "metadata": {},
   "outputs": [],
   "source": [
    "cleaned_text =np.array(data['cleaned_text'])\n",
    "cleaned_summary=np.array(data['cleaned_summary'])\n",
    "\n",
    "short_text=[]\n",
    "short_summary=[]\n",
    "\n",
    "for i in range(len(cleaned_text)):\n",
    "    if(len(cleaned_summary[i].split())<=max_len_summary and len(cleaned_text[i].split())<=max_len_text):\n",
    "        short_text.append(cleaned_text[i])\n",
    "        short_summary.append(cleaned_summary[i])\n",
    "        \n",
    "df=pd.DataFrame({'text':short_text,'summary':short_summary})"
   ]
  },
  {
   "cell_type": "code",
   "execution_count": 30,
   "metadata": {},
   "outputs": [],
   "source": [
    "from sklearn.model_selection import train_test_split\n",
    "x_tr_str,x_val_str,y_tr,y_val=train_test_split(data['cleaned_text'],data['cleaned_summary'],test_size=0.001,random_state=0,shuffle=True)"
   ]
  },
  {
   "cell_type": "code",
   "execution_count": 31,
   "metadata": {},
   "outputs": [],
   "source": [
    "#prepare a tokenizer for reviews on training data\n",
    "x_tokenizer = Tokenizer(num_words=10000)\n",
    "x_tokenizer.fit_on_texts(list(x_tr_str))\n",
    "\n",
    "#convert text sequences into integer sequences\n",
    "x_tr    =   x_tokenizer.texts_to_sequences(x_tr_str) \n",
    "x_val   =   x_tokenizer.texts_to_sequences(x_val_str)\n",
    "\n",
    "#padding zero upto maximum length\n",
    "x_tr    =   pad_sequences(x_tr,  maxlen=max_len_text, padding='post') \n",
    "x_val   =   pad_sequences(x_val, maxlen=max_len_text, padding='post')\n",
    "\n",
    "x_voc_size   =  len(x_tokenizer.word_index) +1"
   ]
  },
  {
   "cell_type": "code",
   "execution_count": 32,
   "metadata": {},
   "outputs": [],
   "source": [
    "#preparing a tokenizer for summary on training data \n",
    "y_tokenizer = Tokenizer(num_words=10000)\n",
    "y_tokenizer.fit_on_texts(list(y_tr))\n",
    "\n",
    "#convert summary sequences into integer sequences\n",
    "y_tr    =   y_tokenizer.texts_to_sequences(y_tr) \n",
    "y_val   =   y_tokenizer.texts_to_sequences(y_val) \n",
    "\n",
    "#padding zero upto maximum length\n",
    "y_tr    =   pad_sequences(y_tr, maxlen=max_len_summary, padding='post')\n",
    "y_val   =   pad_sequences(y_val, maxlen=max_len_summary, padding='post')\n",
    "\n",
    "y_voc_size  =   len(y_tokenizer.word_index) +1"
   ]
  },
  {
   "cell_type": "markdown",
   "metadata": {},
   "source": [
    "### Delete empty summaries"
   ]
  },
  {
   "cell_type": "code",
   "execution_count": 33,
   "metadata": {},
   "outputs": [
    {
     "name": "stdout",
     "output_type": "stream",
     "text": [
      "Length of rows was: 260\n",
      "Length of rows is: 260\n"
     ]
    }
   ],
   "source": [
    "ind=[]\n",
    "for i in range(len(y_tr)):\n",
    "    cnt=0\n",
    "    for j in y_tr[i]:\n",
    "        if j!=0:\n",
    "            cnt=cnt+1\n",
    "    if(cnt==2):\n",
    "        ind.append(i)\n",
    "\n",
    "print(f\"Length of rows was: {len(x_tr)}\")\n",
    "y_tr=np.delete(y_tr,ind, axis=0)\n",
    "x_tr=np.delete(x_tr,ind, axis=0)\n",
    "print(f\"Length of rows is: {len(x_tr)}\")"
   ]
  },
  {
   "cell_type": "code",
   "execution_count": 34,
   "metadata": {},
   "outputs": [
    {
     "name": "stdout",
     "output_type": "stream",
     "text": [
      "Model: \"functional_1\"\n",
      "__________________________________________________________________________________________________\n",
      "Layer (type)                    Output Shape         Param #     Connected to                     \n",
      "==================================================================================================\n",
      "input_1 (InputLayer)            [(None, 910)]        0                                            \n",
      "__________________________________________________________________________________________________\n",
      "embedding (Embedding)           (None, 910, 20)      186100      input_1[0][0]                    \n",
      "__________________________________________________________________________________________________\n",
      "lstm (LSTM)                     [(None, 910, 250), ( 271000      embedding[0][0]                  \n",
      "__________________________________________________________________________________________________\n",
      "input_2 (InputLayer)            [(None, None)]       0                                            \n",
      "__________________________________________________________________________________________________\n",
      "lstm_1 (LSTM)                   [(None, 910, 250), ( 501000      lstm[0][0]                       \n",
      "__________________________________________________________________________________________________\n",
      "embedding_1 (Embedding)         (None, None, 20)     61600       input_2[0][0]                    \n",
      "__________________________________________________________________________________________________\n",
      "lstm_2 (LSTM)                   [(None, 910, 250), ( 501000      lstm_1[0][0]                     \n",
      "__________________________________________________________________________________________________\n",
      "lstm_3 (LSTM)                   [(None, None, 250),  271000      embedding_1[0][0]                \n",
      "                                                                 lstm_2[0][1]                     \n",
      "                                                                 lstm_2[0][2]                     \n",
      "__________________________________________________________________________________________________\n",
      "attention_layer (AttentionLayer ((None, None, 250),  125250      lstm_2[0][0]                     \n",
      "                                                                 lstm_3[0][0]                     \n",
      "__________________________________________________________________________________________________\n",
      "concat_layer (Concatenate)      (None, None, 500)    0           lstm_3[0][0]                     \n",
      "                                                                 attention_layer[0][0]            \n",
      "__________________________________________________________________________________________________\n",
      "time_distributed (TimeDistribut (None, None, 3080)   1543080     concat_layer[0][0]               \n",
      "==================================================================================================\n",
      "Total params: 3,460,030\n",
      "Trainable params: 3,460,030\n",
      "Non-trainable params: 0\n",
      "__________________________________________________________________________________________________\n"
     ]
    }
   ],
   "source": [
    "from tensorflow.keras import backend as K \n",
    "K.clear_session() \n",
    "\n",
    "# Encoder \n",
    "encoder_inputs = Input(batch_input_shape=(None, max_len_text,)) \n",
    "enc_emb = Embedding(x_voc_size, embedding_dim, trainable=True)(encoder_inputs) \n",
    "\n",
    "#LSTM 1 \n",
    "encoder_lstm1 = LSTM(latent_dim,return_sequences=True,return_state=True) \n",
    "encoder_output1, state_h1, state_c1 = encoder_lstm1(enc_emb) \n",
    "\n",
    "#LSTM 2 \n",
    "encoder_lstm2 = LSTM(latent_dim,return_sequences=True,return_state=True) \n",
    "encoder_output2, state_h2, state_c2 = encoder_lstm2(encoder_output1) \n",
    "\n",
    "#LSTM 3 \n",
    "encoder_lstm3=LSTM(latent_dim, return_state=True, return_sequences=True) \n",
    "encoder_outputs, state_h, state_c= encoder_lstm3(encoder_output2) \n",
    "\n",
    "# Set up the decoder. \n",
    "decoder_inputs = Input(batch_input_shape=(None, None,)) \n",
    "dec_emb_layer = Embedding(y_voc_size, embedding_dim,trainable=True) \n",
    "dec_emb = dec_emb_layer(decoder_inputs) \n",
    "\n",
    "#LSTM using encoder_states as initial state\n",
    "decoder_lstm = LSTM(latent_dim, return_sequences=True, return_state=True) \n",
    "decoder_outputs,decoder_fwd_state, decoder_back_state = decoder_lstm(dec_emb,initial_state=[state_h, state_c]) \n",
    "\n",
    "#Attention Layer\n",
    "attn_layer = AttentionLayer(name='attention_layer') \n",
    "attn_out, attn_states = attn_layer([encoder_outputs, decoder_outputs]) \n",
    "\n",
    "# Concat attention output and decoder LSTM output \n",
    "decoder_concat_input = Concatenate(axis=-1, name='concat_layer')([decoder_outputs, attn_out])\n",
    "\n",
    "#Dense layer\n",
    "decoder_dense = TimeDistributed(Dense(y_voc_size, activation='softmax')) \n",
    "decoder_outputs = decoder_dense(decoder_concat_input) \n",
    "\n",
    "# Define the model\n",
    "model = Model([encoder_inputs, decoder_inputs], decoder_outputs) \n",
    "model.summary()\n"
   ]
  },
  {
   "cell_type": "code",
   "execution_count": 35,
   "metadata": {},
   "outputs": [],
   "source": [
    "import pydot_ng"
   ]
  },
  {
   "cell_type": "code",
   "execution_count": 36,
   "metadata": {},
   "outputs": [
    {
     "data": {
      "image/png": "[encoded data removed]",
      "text/plain": [
       "<IPython.core.display.Image object>"
      ]
     },
     "execution_count": 36,
     "metadata": {},
     "output_type": "execute_result"
    }
   ],
   "source": [
    "tf.keras.utils.plot_model(model)"
   ]
  },
  {
   "cell_type": "code",
   "execution_count": 37,
   "metadata": {},
   "outputs": [],
   "source": [
    "model.compile(optimizer='Nadam', loss='sparse_categorical_crossentropy', metrics=[\"accuracy\"])"
   ]
  },
  {
   "cell_type": "code",
   "execution_count": 38,
   "metadata": {},
   "outputs": [],
   "source": [
    "es = EarlyStopping(monitor='val_loss', patience=5, min_delta=0.002, verbose=1)"
   ]
  },
  {
   "cell_type": "code",
   "execution_count": 39,
   "metadata": {},
   "outputs": [],
   "source": [
    "def text_to_sequence(text):\n",
    "    text_tokenized = x_tokenizer.texts_to_sequences([text])\n",
    "    #padding zero upto maximum length\n",
    "    text_padded = pad_sequences(text_tokenized, maxlen=max_len_text, padding='post')\n",
    "    return text_padded\n",
    "\n",
    "def reverse_seq(seq):\n",
    "    out_seq = [seq[i] for i in range(len(seq) -1, -1, -1)]\n",
    "    return seq\n",
    "\n",
    "def prepareDataSetTrain(x_tr, y_tr):\n",
    "    amount_x_tr_cuddn_fix = len(x_tr)-(len(x_tr) % batch_size)\n",
    "    x_tr = x_tr[:amount_x_tr_cuddn_fix]\n",
    "    x_tr = [reverse_seq(review_int) for review_int in [l for l in x_tr]]\n",
    "    y_tr = y_tr[:amount_x_tr_cuddn_fix]\n",
    "    print(len(x_tr) % batch_size)\n",
    "    print(len(y_tr) % batch_size)\n",
    "    dataset_x_input = tf.data.Dataset.from_tensor_slices(x_tr)\n",
    "    dataset_x_context = tf.data.Dataset.from_tensor_slices(y_tr[:,:-1])\n",
    "    dataset_y = tf.data.Dataset.from_tensor_slices(y_tr.reshape(y_tr.shape[0],y_tr.shape[1], 1)[:,1:])\n",
    "    dataset_x = tf.data.Dataset.from_tensor_slices(x_tr)\n",
    "    dataset_train = tf.data.Dataset.zip((dataset_x_input, dataset_x_context))\n",
    "    dataset_train = tf.data.Dataset.zip((dataset_train, dataset_y))\n",
    "    dataset_train_batched = dataset_train.batch(batch_size)\n",
    "    return dataset_train_batched\n",
    "\n",
    "def prepareDataPredict(sentence):\n",
    "    sentence = text_cleaner(sentence)\n",
    "    sentence = summary_cleaner(sentence)\n",
    "    print(sentence)\n",
    "    texts = []\n",
    "    text_padded = text_to_sequence(sentence)\n",
    "    texts.append(tf.convert_to_tensor(text_padded[0]))\n",
    "    #for i in range(batch_size - 1):\n",
    "    #    texts.append(tf.convert_to_tensor(text_to_sequence(sentence)[0]))\n",
    "       \n",
    "    #print(texts)\n",
    "    data_out = tf.convert_to_tensor(texts)\n",
    "    #dataset_predict = tf.data.Dataset.from_tensor_slices(texts)\n",
    "   # dataset_predict_out = dataset_predict.batch(batch_size)\n",
    "    #return dataset_predict_out\n",
    "    return data_out"
   ]
  },
  {
   "cell_type": "code",
   "execution_count": 40,
   "metadata": {},
   "outputs": [
    {
     "name": "stdout",
     "output_type": "stream",
     "text": [
      "0\n",
      "0\n"
     ]
    }
   ],
   "source": [
    "dataset_train_batched = prepareDataSetTrain(x_tr, y_tr)"
   ]
  },
  {
   "cell_type": "code",
   "execution_count": 41,
   "metadata": {},
   "outputs": [],
   "source": [
    "val_per = 0.1\n",
    "len_ds = 0\n",
    "# Count the items in the dataset\n",
    "for i in dataset_train_batched:\n",
    "    len_ds = len_ds+1\n",
    "    \n",
    "# The last batch might not be full, so it will be discarded through casted into integer\n",
    "max_len_ds = len_ds\n",
    "len_split = int(max_len_ds * val_per)\n",
    "train_amount = max_len_ds - len_split\n",
    "len_split = len_split -1"
   ]
  },
  {
   "cell_type": "code",
   "execution_count": 37,
   "metadata": {},
   "outputs": [
    {
     "data": {
      "text/plain": [
       "20"
      ]
     },
     "execution_count": 37,
     "metadata": {},
     "output_type": "execute_result"
    }
   ],
   "source": [
    "batch_size*5"
   ]
  },
  {
   "cell_type": "code",
   "execution_count": 38,
   "metadata": {},
   "outputs": [
    {
     "data": {
      "text/plain": [
       "59"
      ]
     },
     "execution_count": 38,
     "metadata": {},
     "output_type": "execute_result"
    }
   ],
   "source": [
    "train_amount"
   ]
  },
  {
   "cell_type": "code",
   "execution_count": 42,
   "metadata": {},
   "outputs": [
    {
     "name": "stdout",
     "output_type": "stream",
     "text": [
      "Epoch 1/10\n",
      " 1/59 [..............................] - ETA: 0s - loss: 8.0331 - accuracy: 0.0000e+00"
     ]
    },
    {
     "ename": "InternalError",
     "evalue": "   Failed to call ThenRnnBackward with model config: [rnn_mode, rnn_input_mode, rnn_direction_mode]: 2, 0, 0 , [num_layers, input_size, num_units, dir_count, max_seq_length, batch_size, cell_num_units]: [1, 20, 250, 1, 910, 4, 250] \n\t [[{{node gradients/CudnnRNN_grad/CudnnRNNBackprop}}]]\n\t [[PartitionedCall_3]] [Op:__inference_train_function_13679]\n\nFunction call stack:\ntrain_function -> train_function -> train_function\n",
     "output_type": "error",
     "traceback": [
      "\u001b[1;31m---------------------------------------------------------------------------\u001b[0m",
      "\u001b[1;31mInternalError\u001b[0m                             Traceback (most recent call last)",
      "\u001b[1;32m<ipython-input-42-fbd6f9a3eed3>\u001b[0m in \u001b[0;36m<module>\u001b[1;34m\u001b[0m\n\u001b[1;32m----> 1\u001b[1;33m \u001b[0mhistory\u001b[0m\u001b[1;33m=\u001b[0m\u001b[0mmodel\u001b[0m\u001b[1;33m.\u001b[0m\u001b[0mfit\u001b[0m\u001b[1;33m(\u001b[0m\u001b[0mdataset_train_batched\u001b[0m\u001b[1;33m.\u001b[0m\u001b[0mtake\u001b[0m\u001b[1;33m(\u001b[0m\u001b[0mtrain_amount\u001b[0m\u001b[1;33m)\u001b[0m\u001b[1;33m,\u001b[0m \u001b[0mepochs\u001b[0m\u001b[1;33m=\u001b[0m\u001b[1;36m10\u001b[0m\u001b[1;33m,\u001b[0m\u001b[0mcallbacks\u001b[0m\u001b[1;33m=\u001b[0m\u001b[1;33m[\u001b[0m\u001b[0mes\u001b[0m\u001b[1;33m]\u001b[0m\u001b[1;33m,\u001b[0m \u001b[0mbatch_size\u001b[0m\u001b[1;33m=\u001b[0m\u001b[0mbatch_size\u001b[0m\u001b[1;33m,\u001b[0m \u001b[0mvalidation_data\u001b[0m\u001b[1;33m=\u001b[0m\u001b[0mdataset_train_batched\u001b[0m\u001b[1;33m.\u001b[0m\u001b[0mskip\u001b[0m\u001b[1;33m(\u001b[0m\u001b[0mtrain_amount\u001b[0m\u001b[1;33m)\u001b[0m\u001b[1;33m.\u001b[0m\u001b[0mtake\u001b[0m\u001b[1;33m(\u001b[0m\u001b[0mlen_split\u001b[0m\u001b[1;33m)\u001b[0m\u001b[1;33m)\u001b[0m\u001b[1;33m\u001b[0m\u001b[1;33m\u001b[0m\u001b[0m\n\u001b[0m",
      "\u001b[1;32m~\\anaconda3\\envs\\tf_nightly_env\\lib\\site-packages\\tensorflow\\python\\keras\\engine\\training.py\u001b[0m in \u001b[0;36m_method_wrapper\u001b[1;34m(self, *args, **kwargs)\u001b[0m\n\u001b[0;32m    106\u001b[0m   \u001b[1;32mdef\u001b[0m \u001b[0m_method_wrapper\u001b[0m\u001b[1;33m(\u001b[0m\u001b[0mself\u001b[0m\u001b[1;33m,\u001b[0m \u001b[1;33m*\u001b[0m\u001b[0margs\u001b[0m\u001b[1;33m,\u001b[0m \u001b[1;33m**\u001b[0m\u001b[0mkwargs\u001b[0m\u001b[1;33m)\u001b[0m\u001b[1;33m:\u001b[0m\u001b[1;33m\u001b[0m\u001b[1;33m\u001b[0m\u001b[0m\n\u001b[0;32m    107\u001b[0m     \u001b[1;32mif\u001b[0m \u001b[1;32mnot\u001b[0m \u001b[0mself\u001b[0m\u001b[1;33m.\u001b[0m\u001b[0m_in_multi_worker_mode\u001b[0m\u001b[1;33m(\u001b[0m\u001b[1;33m)\u001b[0m\u001b[1;33m:\u001b[0m  \u001b[1;31m# pylint: disable=protected-access\u001b[0m\u001b[1;33m\u001b[0m\u001b[1;33m\u001b[0m\u001b[0m\n\u001b[1;32m--> 108\u001b[1;33m       \u001b[1;32mreturn\u001b[0m \u001b[0mmethod\u001b[0m\u001b[1;33m(\u001b[0m\u001b[0mself\u001b[0m\u001b[1;33m,\u001b[0m \u001b[1;33m*\u001b[0m\u001b[0margs\u001b[0m\u001b[1;33m,\u001b[0m \u001b[1;33m**\u001b[0m\u001b[0mkwargs\u001b[0m\u001b[1;33m)\u001b[0m\u001b[1;33m\u001b[0m\u001b[1;33m\u001b[0m\u001b[0m\n\u001b[0m\u001b[0;32m    109\u001b[0m \u001b[1;33m\u001b[0m\u001b[0m\n\u001b[0;32m    110\u001b[0m     \u001b[1;31m# Running inside `run_distribute_coordinator` already.\u001b[0m\u001b[1;33m\u001b[0m\u001b[1;33m\u001b[0m\u001b[1;33m\u001b[0m\u001b[0m\n",
      "\u001b[1;32m~\\anaconda3\\envs\\tf_nightly_env\\lib\\site-packages\\tensorflow\\python\\keras\\engine\\training.py\u001b[0m in \u001b[0;36mfit\u001b[1;34m(self, x, y, batch_size, epochs, verbose, callbacks, validation_split, validation_data, shuffle, class_weight, sample_weight, initial_epoch, steps_per_epoch, validation_steps, validation_batch_size, validation_freq, max_queue_size, workers, use_multiprocessing)\u001b[0m\n\u001b[0;32m   1097\u001b[0m                 batch_size=batch_size):\n\u001b[0;32m   1098\u001b[0m               \u001b[0mcallbacks\u001b[0m\u001b[1;33m.\u001b[0m\u001b[0mon_train_batch_begin\u001b[0m\u001b[1;33m(\u001b[0m\u001b[0mstep\u001b[0m\u001b[1;33m)\u001b[0m\u001b[1;33m\u001b[0m\u001b[1;33m\u001b[0m\u001b[0m\n\u001b[1;32m-> 1099\u001b[1;33m               \u001b[0mtmp_logs\u001b[0m \u001b[1;33m=\u001b[0m \u001b[0mtrain_function\u001b[0m\u001b[1;33m(\u001b[0m\u001b[0miterator\u001b[0m\u001b[1;33m)\u001b[0m\u001b[1;33m\u001b[0m\u001b[1;33m\u001b[0m\u001b[0m\n\u001b[0m\u001b[0;32m   1100\u001b[0m               \u001b[1;32mif\u001b[0m \u001b[0mdata_handler\u001b[0m\u001b[1;33m.\u001b[0m\u001b[0mshould_sync\u001b[0m\u001b[1;33m:\u001b[0m\u001b[1;33m\u001b[0m\u001b[1;33m\u001b[0m\u001b[0m\n\u001b[0;32m   1101\u001b[0m                 \u001b[0mcontext\u001b[0m\u001b[1;33m.\u001b[0m\u001b[0masync_wait\u001b[0m\u001b[1;33m(\u001b[0m\u001b[1;33m)\u001b[0m\u001b[1;33m\u001b[0m\u001b[1;33m\u001b[0m\u001b[0m\n",
      "\u001b[1;32m~\\anaconda3\\envs\\tf_nightly_env\\lib\\site-packages\\tensorflow\\python\\eager\\def_function.py\u001b[0m in \u001b[0;36m__call__\u001b[1;34m(self, *args, **kwds)\u001b[0m\n\u001b[0;32m    784\u001b[0m       \u001b[1;32melse\u001b[0m\u001b[1;33m:\u001b[0m\u001b[1;33m\u001b[0m\u001b[1;33m\u001b[0m\u001b[0m\n\u001b[0;32m    785\u001b[0m         \u001b[0mcompiler\u001b[0m \u001b[1;33m=\u001b[0m \u001b[1;34m\"nonXla\"\u001b[0m\u001b[1;33m\u001b[0m\u001b[1;33m\u001b[0m\u001b[0m\n\u001b[1;32m--> 786\u001b[1;33m         \u001b[0mresult\u001b[0m \u001b[1;33m=\u001b[0m \u001b[0mself\u001b[0m\u001b[1;33m.\u001b[0m\u001b[0m_call\u001b[0m\u001b[1;33m(\u001b[0m\u001b[1;33m*\u001b[0m\u001b[0margs\u001b[0m\u001b[1;33m,\u001b[0m \u001b[1;33m**\u001b[0m\u001b[0mkwds\u001b[0m\u001b[1;33m)\u001b[0m\u001b[1;33m\u001b[0m\u001b[1;33m\u001b[0m\u001b[0m\n\u001b[0m\u001b[0;32m    787\u001b[0m \u001b[1;33m\u001b[0m\u001b[0m\n\u001b[0;32m    788\u001b[0m       \u001b[0mnew_tracing_count\u001b[0m \u001b[1;33m=\u001b[0m \u001b[0mself\u001b[0m\u001b[1;33m.\u001b[0m\u001b[0m_get_tracing_count\u001b[0m\u001b[1;33m(\u001b[0m\u001b[1;33m)\u001b[0m\u001b[1;33m\u001b[0m\u001b[1;33m\u001b[0m\u001b[0m\n",
      "\u001b[1;32m~\\anaconda3\\envs\\tf_nightly_env\\lib\\site-packages\\tensorflow\\python\\eager\\def_function.py\u001b[0m in \u001b[0;36m_call\u001b[1;34m(self, *args, **kwds)\u001b[0m\n\u001b[0;32m    811\u001b[0m       \u001b[1;31m# In this case we have created variables on the first call, so we run the\u001b[0m\u001b[1;33m\u001b[0m\u001b[1;33m\u001b[0m\u001b[1;33m\u001b[0m\u001b[0m\n\u001b[0;32m    812\u001b[0m       \u001b[1;31m# defunned version which is guaranteed to never create variables.\u001b[0m\u001b[1;33m\u001b[0m\u001b[1;33m\u001b[0m\u001b[1;33m\u001b[0m\u001b[0m\n\u001b[1;32m--> 813\u001b[1;33m       \u001b[1;32mreturn\u001b[0m \u001b[0mself\u001b[0m\u001b[1;33m.\u001b[0m\u001b[0m_stateless_fn\u001b[0m\u001b[1;33m(\u001b[0m\u001b[1;33m*\u001b[0m\u001b[0margs\u001b[0m\u001b[1;33m,\u001b[0m \u001b[1;33m**\u001b[0m\u001b[0mkwds\u001b[0m\u001b[1;33m)\u001b[0m  \u001b[1;31m# pylint: disable=not-callable\u001b[0m\u001b[1;33m\u001b[0m\u001b[1;33m\u001b[0m\u001b[0m\n\u001b[0m\u001b[0;32m    814\u001b[0m     \u001b[1;32melif\u001b[0m \u001b[0mself\u001b[0m\u001b[1;33m.\u001b[0m\u001b[0m_stateful_fn\u001b[0m \u001b[1;32mis\u001b[0m \u001b[1;32mnot\u001b[0m \u001b[1;32mNone\u001b[0m\u001b[1;33m:\u001b[0m\u001b[1;33m\u001b[0m\u001b[1;33m\u001b[0m\u001b[0m\n\u001b[0;32m    815\u001b[0m       \u001b[1;31m# Release the lock early so that multiple threads can perform the call\u001b[0m\u001b[1;33m\u001b[0m\u001b[1;33m\u001b[0m\u001b[1;33m\u001b[0m\u001b[0m\n",
      "\u001b[1;32m~\\anaconda3\\envs\\tf_nightly_env\\lib\\site-packages\\tensorflow\\python\\eager\\function.py\u001b[0m in \u001b[0;36m__call__\u001b[1;34m(self, *args, **kwargs)\u001b[0m\n\u001b[0;32m   2855\u001b[0m     \u001b[1;32mwith\u001b[0m \u001b[0mself\u001b[0m\u001b[1;33m.\u001b[0m\u001b[0m_lock\u001b[0m\u001b[1;33m:\u001b[0m\u001b[1;33m\u001b[0m\u001b[1;33m\u001b[0m\u001b[0m\n\u001b[0;32m   2856\u001b[0m       \u001b[0mgraph_function\u001b[0m\u001b[1;33m,\u001b[0m \u001b[0margs\u001b[0m\u001b[1;33m,\u001b[0m \u001b[0mkwargs\u001b[0m \u001b[1;33m=\u001b[0m \u001b[0mself\u001b[0m\u001b[1;33m.\u001b[0m\u001b[0m_maybe_define_function\u001b[0m\u001b[1;33m(\u001b[0m\u001b[0margs\u001b[0m\u001b[1;33m,\u001b[0m \u001b[0mkwargs\u001b[0m\u001b[1;33m)\u001b[0m\u001b[1;33m\u001b[0m\u001b[1;33m\u001b[0m\u001b[0m\n\u001b[1;32m-> 2857\u001b[1;33m     \u001b[1;32mreturn\u001b[0m \u001b[0mgraph_function\u001b[0m\u001b[1;33m.\u001b[0m\u001b[0m_filtered_call\u001b[0m\u001b[1;33m(\u001b[0m\u001b[0margs\u001b[0m\u001b[1;33m,\u001b[0m \u001b[0mkwargs\u001b[0m\u001b[1;33m)\u001b[0m  \u001b[1;31m# pylint: disable=protected-access\u001b[0m\u001b[1;33m\u001b[0m\u001b[1;33m\u001b[0m\u001b[0m\n\u001b[0m\u001b[0;32m   2858\u001b[0m \u001b[1;33m\u001b[0m\u001b[0m\n\u001b[0;32m   2859\u001b[0m   \u001b[1;33m@\u001b[0m\u001b[0mproperty\u001b[0m\u001b[1;33m\u001b[0m\u001b[1;33m\u001b[0m\u001b[0m\n",
      "\u001b[1;32m~\\anaconda3\\envs\\tf_nightly_env\\lib\\site-packages\\tensorflow\\python\\eager\\function.py\u001b[0m in \u001b[0;36m_filtered_call\u001b[1;34m(self, args, kwargs, cancellation_manager)\u001b[0m\n\u001b[0;32m   1853\u001b[0m                            resource_variable_ops.BaseResourceVariable))],\n\u001b[0;32m   1854\u001b[0m         \u001b[0mcaptured_inputs\u001b[0m\u001b[1;33m=\u001b[0m\u001b[0mself\u001b[0m\u001b[1;33m.\u001b[0m\u001b[0mcaptured_inputs\u001b[0m\u001b[1;33m,\u001b[0m\u001b[1;33m\u001b[0m\u001b[1;33m\u001b[0m\u001b[0m\n\u001b[1;32m-> 1855\u001b[1;33m         cancellation_manager=cancellation_manager)\n\u001b[0m\u001b[0;32m   1856\u001b[0m \u001b[1;33m\u001b[0m\u001b[0m\n\u001b[0;32m   1857\u001b[0m   \u001b[1;32mdef\u001b[0m \u001b[0m_call_flat\u001b[0m\u001b[1;33m(\u001b[0m\u001b[0mself\u001b[0m\u001b[1;33m,\u001b[0m \u001b[0margs\u001b[0m\u001b[1;33m,\u001b[0m \u001b[0mcaptured_inputs\u001b[0m\u001b[1;33m,\u001b[0m \u001b[0mcancellation_manager\u001b[0m\u001b[1;33m=\u001b[0m\u001b[1;32mNone\u001b[0m\u001b[1;33m)\u001b[0m\u001b[1;33m:\u001b[0m\u001b[1;33m\u001b[0m\u001b[1;33m\u001b[0m\u001b[0m\n",
      "\u001b[1;32m~\\anaconda3\\envs\\tf_nightly_env\\lib\\site-packages\\tensorflow\\python\\eager\\function.py\u001b[0m in \u001b[0;36m_call_flat\u001b[1;34m(self, args, captured_inputs, cancellation_manager)\u001b[0m\n\u001b[0;32m   1929\u001b[0m       \u001b[1;31m# No tape is watching; skip to running the function.\u001b[0m\u001b[1;33m\u001b[0m\u001b[1;33m\u001b[0m\u001b[1;33m\u001b[0m\u001b[0m\n\u001b[0;32m   1930\u001b[0m       return self._build_call_outputs(self._inference_function.call(\n\u001b[1;32m-> 1931\u001b[1;33m           ctx, args, cancellation_manager=cancellation_manager))\n\u001b[0m\u001b[0;32m   1932\u001b[0m     forward_backward = self._select_forward_and_backward_functions(\n\u001b[0;32m   1933\u001b[0m         \u001b[0margs\u001b[0m\u001b[1;33m,\u001b[0m\u001b[1;33m\u001b[0m\u001b[1;33m\u001b[0m\u001b[0m\n",
      "\u001b[1;32m~\\anaconda3\\envs\\tf_nightly_env\\lib\\site-packages\\tensorflow\\python\\eager\\function.py\u001b[0m in \u001b[0;36mcall\u001b[1;34m(self, ctx, args, cancellation_manager)\u001b[0m\n\u001b[0;32m    552\u001b[0m               \u001b[0minputs\u001b[0m\u001b[1;33m=\u001b[0m\u001b[0margs\u001b[0m\u001b[1;33m,\u001b[0m\u001b[1;33m\u001b[0m\u001b[1;33m\u001b[0m\u001b[0m\n\u001b[0;32m    553\u001b[0m               \u001b[0mattrs\u001b[0m\u001b[1;33m=\u001b[0m\u001b[0mattrs\u001b[0m\u001b[1;33m,\u001b[0m\u001b[1;33m\u001b[0m\u001b[1;33m\u001b[0m\u001b[0m\n\u001b[1;32m--> 554\u001b[1;33m               ctx=ctx)\n\u001b[0m\u001b[0;32m    555\u001b[0m         \u001b[1;32melse\u001b[0m\u001b[1;33m:\u001b[0m\u001b[1;33m\u001b[0m\u001b[1;33m\u001b[0m\u001b[0m\n\u001b[0;32m    556\u001b[0m           outputs = execute.execute_with_cancellation(\n",
      "\u001b[1;32m~\\anaconda3\\envs\\tf_nightly_env\\lib\\site-packages\\tensorflow\\python\\eager\\execute.py\u001b[0m in \u001b[0;36mquick_execute\u001b[1;34m(op_name, num_outputs, inputs, attrs, ctx, name)\u001b[0m\n\u001b[0;32m     58\u001b[0m     \u001b[0mctx\u001b[0m\u001b[1;33m.\u001b[0m\u001b[0mensure_initialized\u001b[0m\u001b[1;33m(\u001b[0m\u001b[1;33m)\u001b[0m\u001b[1;33m\u001b[0m\u001b[1;33m\u001b[0m\u001b[0m\n\u001b[0;32m     59\u001b[0m     tensors = pywrap_tfe.TFE_Py_Execute(ctx._handle, device_name, op_name,\n\u001b[1;32m---> 60\u001b[1;33m                                         inputs, attrs, num_outputs)\n\u001b[0m\u001b[0;32m     61\u001b[0m   \u001b[1;32mexcept\u001b[0m \u001b[0mcore\u001b[0m\u001b[1;33m.\u001b[0m\u001b[0m_NotOkStatusException\u001b[0m \u001b[1;32mas\u001b[0m \u001b[0me\u001b[0m\u001b[1;33m:\u001b[0m\u001b[1;33m\u001b[0m\u001b[1;33m\u001b[0m\u001b[0m\n\u001b[0;32m     62\u001b[0m     \u001b[1;32mif\u001b[0m \u001b[0mname\u001b[0m \u001b[1;32mis\u001b[0m \u001b[1;32mnot\u001b[0m \u001b[1;32mNone\u001b[0m\u001b[1;33m:\u001b[0m\u001b[1;33m\u001b[0m\u001b[1;33m\u001b[0m\u001b[0m\n",
      "\u001b[1;31mInternalError\u001b[0m:    Failed to call ThenRnnBackward with model config: [rnn_mode, rnn_input_mode, rnn_direction_mode]: 2, 0, 0 , [num_layers, input_size, num_units, dir_count, max_seq_length, batch_size, cell_num_units]: [1, 20, 250, 1, 910, 4, 250] \n\t [[{{node gradients/CudnnRNN_grad/CudnnRNNBackprop}}]]\n\t [[PartitionedCall_3]] [Op:__inference_train_function_13679]\n\nFunction call stack:\ntrain_function -> train_function -> train_function\n"
     ]
    }
   ],
   "source": [
    "history=model.fit(dataset_train_batched.take(train_amount), epochs=10,callbacks=[es], batch_size=batch_size, validation_data=dataset_train_batched.skip(train_amount).take(len_split))"
   ]
  },
  {
   "cell_type": "code",
   "execution_count": 87,
   "metadata": {},
   "outputs": [
    {
     "ename": "KeyError",
     "evalue": "'val_loss'",
     "output_type": "error",
     "traceback": [
      "\u001b[1;31m---------------------------------------------------------------------------\u001b[0m",
      "\u001b[1;31mKeyError\u001b[0m                                  Traceback (most recent call last)",
      "\u001b[1;32m<ipython-input-87-e93d173089ef>\u001b[0m in \u001b[0;36m<module>\u001b[1;34m\u001b[0m\n\u001b[0;32m      1\u001b[0m \u001b[1;32mfrom\u001b[0m \u001b[0mmatplotlib\u001b[0m \u001b[1;32mimport\u001b[0m \u001b[0mpyplot\u001b[0m\u001b[1;33m\u001b[0m\u001b[1;33m\u001b[0m\u001b[0m\n\u001b[0;32m      2\u001b[0m \u001b[0mpyplot\u001b[0m\u001b[1;33m.\u001b[0m\u001b[0mplot\u001b[0m\u001b[1;33m(\u001b[0m\u001b[0mhistory\u001b[0m\u001b[1;33m.\u001b[0m\u001b[0mhistory\u001b[0m\u001b[1;33m[\u001b[0m\u001b[1;34m'loss'\u001b[0m\u001b[1;33m]\u001b[0m\u001b[1;33m,\u001b[0m \u001b[0mlabel\u001b[0m\u001b[1;33m=\u001b[0m\u001b[1;34m'train'\u001b[0m\u001b[1;33m)\u001b[0m\u001b[1;33m\u001b[0m\u001b[1;33m\u001b[0m\u001b[0m\n\u001b[1;32m----> 3\u001b[1;33m \u001b[0mpyplot\u001b[0m\u001b[1;33m.\u001b[0m\u001b[0mplot\u001b[0m\u001b[1;33m(\u001b[0m\u001b[0mhistory\u001b[0m\u001b[1;33m.\u001b[0m\u001b[0mhistory\u001b[0m\u001b[1;33m[\u001b[0m\u001b[1;34m'val_loss'\u001b[0m\u001b[1;33m]\u001b[0m\u001b[1;33m,\u001b[0m \u001b[0mlabel\u001b[0m\u001b[1;33m=\u001b[0m\u001b[1;34m'test'\u001b[0m\u001b[1;33m)\u001b[0m\u001b[1;33m\u001b[0m\u001b[1;33m\u001b[0m\u001b[0m\n\u001b[0m\u001b[0;32m      4\u001b[0m \u001b[0mpyplot\u001b[0m\u001b[1;33m.\u001b[0m\u001b[0mlegend\u001b[0m\u001b[1;33m(\u001b[0m\u001b[1;33m)\u001b[0m\u001b[1;33m\u001b[0m\u001b[1;33m\u001b[0m\u001b[0m\n\u001b[0;32m      5\u001b[0m \u001b[0mpyplot\u001b[0m\u001b[1;33m.\u001b[0m\u001b[0mshow\u001b[0m\u001b[1;33m(\u001b[0m\u001b[1;33m)\u001b[0m\u001b[1;33m\u001b[0m\u001b[1;33m\u001b[0m\u001b[0m\n",
      "\u001b[1;31mKeyError\u001b[0m: 'val_loss'"
     ]
    },
    {
     "data": {
      "image/png": "[encoded data removed]",
      "text/plain": [
       "<Figure size 432x288 with 1 Axes>"
      ]
     },
     "metadata": {
      "needs_background": "light"
     },
     "output_type": "display_data"
    }
   ],
   "source": [
    "from matplotlib import pyplot \n",
    "pyplot.plot(history.history['loss'], label='train') \n",
    "pyplot.plot(history.history['val_loss'], label='test') \n",
    "pyplot.legend()\n",
    "pyplot.show()"
   ]
  },
  {
   "cell_type": "code",
   "execution_count": 88,
   "metadata": {},
   "outputs": [],
   "source": [
    "reverse_target_word_index=y_tokenizer.index_word \n",
    "reverse_source_word_index=x_tokenizer.index_word \n",
    "target_word_index=y_tokenizer.word_index"
   ]
  },
  {
   "cell_type": "code",
   "execution_count": 89,
   "metadata": {},
   "outputs": [],
   "source": [
    "# encoder inference\n",
    "encoder_model = Model(inputs=encoder_inputs,outputs=[encoder_outputs, state_h, state_c])\n",
    "\n",
    "# decoder inference\n",
    "# Below tensors will hold the states of the previous time step\n",
    "decoder_state_input_h = Input(batch_input_shape=(None, latent_dim,))\n",
    "decoder_state_input_c = Input(batch_input_shape=(None, latent_dim,))\n",
    "decoder_hidden_state_input = Input(batch_input_shape=(None,max_len_text, latent_dim))\n",
    "\n",
    "# Get the embeddings of the decoder sequence\n",
    "dec_emb2= dec_emb_layer(decoder_inputs)\n",
    "\n",
    "# To predict the next word in the sequence, set the initial states to the states from the previous time step\n",
    "\n",
    "decoder_outputs2, state_h2, state_c2 = decoder_lstm(dec_emb2, initial_state=[decoder_state_input_h, decoder_state_input_c])\n",
    "\n",
    "#attention inference\n",
    "attn_out_inf, attn_states_inf = attn_layer([decoder_hidden_state_input, decoder_outputs2])\n",
    "decoder_inf_concat = Concatenate(axis=-1, name='concat')([decoder_outputs2, attn_out_inf])\n",
    "\n",
    "# A dense softmax layer to generate prob dist. over the target vocabulary\n",
    "decoder_outputs2 = decoder_dense(decoder_inf_concat)\n",
    "\n",
    "# Final decoder model\n",
    "decoder_model = Model(\n",
    "[decoder_inputs] + [decoder_hidden_state_input,decoder_state_input_h, decoder_state_input_c],\n",
    "[decoder_outputs2] + [state_h2, state_c2])"
   ]
  },
  {
   "cell_type": "code",
   "execution_count": 90,
   "metadata": {},
   "outputs": [],
   "source": [
    "def decode_sequence(input_seq):\n",
    "    # Encode the input as state vectors.\n",
    "    e_out, e_h, e_c = encoder_model.predict(input_seq)\n",
    "    print(e_out.shape)\n",
    "    print(e_h.shape)\n",
    "    print(e_c.shape)\n",
    "    # Generate empty target sequence of length 1.\n",
    "    target_seq = np.zeros((1,1))\n",
    "\n",
    "    # Chose the 'start' word as the first word of the target sequence\n",
    "    target_seq[0, 0] = target_word_index['sostock']\n",
    "\n",
    "    print(np.array(target_seq).shape)\n",
    "    print(e_out.shape)\n",
    "    print(e_h.shape)\n",
    "    print(e_c.shape)\n",
    "    stop_condition = False\n",
    "    decoded_sentence = ''\n",
    "    while not stop_condition:\n",
    "        output_tokens, h, c = decoder_model.predict([[target_seq] + [e_out, e_h, e_c]])\n",
    "        output_tokens = output_tokens[:1]\n",
    "        h_1 = h[:1]\n",
    "        c_1 = c[:1]\n",
    "        # Sample a token\n",
    "        #Use a random choice as described in this stackoverflow solution:\n",
    "        #https://stackoverflow.com/questions/47125723/keras-lstm-for-text-generation-keeps-repeating-a-line-or-a-sequence\n",
    "        #sampled_token_index = np.argmax(output_tokens[0, -1, :])\n",
    "        prediction_output = output_tokens[0,-1,:]\n",
    "        print(output_tokens)\n",
    "        sampled_token_index = np.random.choice(len(prediction_output), p=prediction_output)\n",
    "        sampled_token = reverse_target_word_index[sampled_token_index]\n",
    "\n",
    "        if(sampled_token!='eostock'):\n",
    "            decoded_sentence += ' '+sampled_token\n",
    "\n",
    "        # Exit condition: either hit max length or find stop word.\n",
    "        if (sampled_token == 'eostock' or len(decoded_sentence.split()) >= (max_len_summary-1)):\n",
    "            stop_condition = True\n",
    "\n",
    "        # Update the target sequence (of length 1).\n",
    "        target_seq = np.zeros((1,1))\n",
    "        target_seq[0, 0] = sampled_token_index\n",
    "\n",
    "        # Update internal states\n",
    "        e_h, e_c = h, c\n",
    "\n",
    "    return decoded_sentence"
   ]
  },
  {
   "cell_type": "code",
   "execution_count": 91,
   "metadata": {},
   "outputs": [],
   "source": [
    "def seq2summary(input_seq):\n",
    "    newString=''\n",
    "    for i in input_seq:\n",
    "      if((i!=0 and i!=target_word_index['sostock']) and i!=target_word_index['eostock']):\n",
    "        newString=newString+reverse_target_word_index[i]+' '\n",
    "    return newString\n",
    "\n",
    "def seq2text(input_seq):\n",
    "    newString=''\n",
    "    for i in input_seq:\n",
    "      if(i!=0):\n",
    "        newString=newString+reverse_source_word_index[i]+' '\n",
    "    return newString"
   ]
  },
  {
   "cell_type": "code",
   "execution_count": 92,
   "metadata": {},
   "outputs": [
    {
     "name": "stdout",
     "output_type": "stream",
     "text": [
      "bought gaming computer weeks ago really satisfied working absolutely well crashes bit expensive would cooler could cost less \n"
     ]
    }
   ],
   "source": [
    "text_predict = \"I just bought that gaming computer weeks ago. I am really satisfied. It is working absolutely well, no crashes. It just was a bit expensive and it would be cooler if it could cost less\"\n",
    "dataset_predict = prepareDataPredict(text_predict)"
   ]
  },
  {
   "cell_type": "code",
   "execution_count": 93,
   "metadata": {},
   "outputs": [],
   "source": [
    "stri = x_val_str[:1]"
   ]
  },
  {
   "cell_type": "code",
   "execution_count": 94,
   "metadata": {},
   "outputs": [
    {
     "data": {
      "text/plain": [
       "'sostock thought times morning daily west coast new york nearly noon received today paper yet left wireless night reading kindle content morning standard eostock sostock month free trial well worth try say front second nyt great paper gotten newspapers due wanting cut amount trash generate got tired excessive advertising blah blah blah getting nyt wake morning remembering missing spending minutes per morning reading parts find interesting good stuff probably continue trial said agree price tad high would much comfortable less per month considering much stripped also someone nyt read bridge column last week made numerous references missing diagram understand leaving pictures vital pictures never left going leave pictures think static pictures left bridge column without diagrams pointless added items strip include diagrams good science section far miss crossword even crossword interactive would love see grid paper nyt really close think little care could something less frustrating send decided continue subscribing reading nyt bed getting awhile great way start day would still like better reading newspaper bed early morning new joy want give eostock sostock nyt way rated examples first page talked saving nation energy painting roofs white white paint special white paint government labs turns old white paint government program necesaary nyt say irresponsible area health reporting pope wrote silly article kesler book food mention head fda engaged running battles vitamin food manufacturers years many battles lost courts use aspirin heart treatment good expensive biotech drugs fda touting uncritical irresponsible reporting dereliction journalist duty economists like krugman clue save nation economy yet pontificate pages times reader encourage find better sources later continue rant posted comment nyt website response article tone reserved systematic subject blocking medical innovation medical bureaucracy government guess comment erased evidently censor comments agree may offend advertisers kind society want may agree want shut disagree hint could next objections nyt ethical moral unfortunately become government hacks rather responsible journalists eostock sostock much information packed daily issue time read read books kindle magazines news makes new york times great newspaper included kindle edition minus ads time read daily well worth monthly subscription price eostock sostock big fan times see one top newspapers one kindle download covers every edition month okay say miss looking day two still excellent price time read problem fact everyday download well worth price two listen also get access times homepage giving articles opportunity email letters sent box outline major stories day case life particularly busy like said downloading times amazon double plus pass eostock sostock enjoy reading times kindle little expensive one major indulgence kindle wise carry kindle around snatch quick reads page day night content usually fairly well formatted kindle occasional exceptions graphics rendered greyscale usually see basically going always articles list appreciate summaries article wish online content would included sections uninteresting wish could skip section still articles list eostock sostock times great read little expensive opinion reader version buy often enjoy reading news paper eostock sostock received one fourteen free copy nyt please end non subscription time meaning agreeable charges placed account nyt thank douglas eostock sostock big kahuna newspapers delivered right kindle even need get bed throne retrieve soggy paper version snowed yard read right beloved kindle problem high price get pesky drm content put kindle content like evil drm inherent kindle lets view content kindle printing articles emailing articles friend using presentations stuck evil live price restrictions drm friend eostock'"
      ]
     },
     "execution_count": 94,
     "metadata": {},
     "output_type": "execute_result"
    }
   ],
   "source": [
    "stri.array[0]"
   ]
  },
  {
   "cell_type": "code",
   "execution_count": 95,
   "metadata": {},
   "outputs": [
    {
     "name": "stdout",
     "output_type": "stream",
     "text": [
      "Review: I just bought that gaming computer weeks ago. I am really satisfied. It is working absolutely well, no crashes. It just was a bit expensive and it would be cooler if it could cost less\n",
      "(1, 910, 250)\n",
      "(1, 250)\n",
      "(1, 250)\n",
      "(1, 1)\n",
      "(1, 910, 250)\n",
      "(1, 250)\n",
      "(1, 250)\n",
      "[[[0.275522   0.05380823 0.03824576 0.02319334 0.0083356  0.00801293\n",
      "   0.0305444  0.01025052 0.00787585 0.00782457 0.00467978 0.00377785\n",
      "   0.00423412 0.00828603 0.01395827 0.00336623 0.00400488 0.01364194\n",
      "   0.00268627 0.01414722 0.00591741 0.00623748 0.00268858 0.00609476\n",
      "   0.00408958 0.00341213 0.00672192 0.00366413 0.00555404 0.00701481\n",
      "   0.00892761 0.0009816  0.00320845 0.00493251 0.0016907  0.0019853\n",
      "   0.00448255 0.00638017 0.00337331 0.00603844 0.00192085 0.00234279\n",
      "   0.00183283 0.00173488 0.00087182 0.00165002 0.00210907 0.00550536\n",
      "   0.00220721 0.00149801 0.00273175 0.00268432 0.0035724  0.00165483\n",
      "   0.00301164 0.00277151 0.00202057 0.00320854 0.00287156 0.00344644\n",
      "   0.00396603 0.00305504 0.00127488 0.00295566 0.00082041 0.00147269\n",
      "   0.0007051  0.00543771 0.00622955 0.01544159 0.00498005 0.01064334\n",
      "   0.00294611 0.00234872 0.00081779 0.00355801 0.00309778 0.00412154\n",
      "   0.00358742 0.00190654 0.00195092 0.00147626 0.0012295  0.00447508\n",
      "   0.00123234 0.00344682 0.00271328 0.00167682 0.00167395 0.00207476\n",
      "   0.00171714 0.00222115 0.00368401 0.00245654 0.00176386 0.00528294\n",
      "   0.00211518 0.0016703  0.00164678 0.0017558  0.00206466 0.00422738\n",
      "   0.00203758 0.00141164 0.00306147 0.00159761 0.00107451 0.0019638\n",
      "   0.00201299 0.00193046 0.00291222 0.00111861 0.00143973 0.00348735\n",
      "   0.00177763 0.00143754 0.00140851 0.00298072 0.00171126 0.0012351\n",
      "   0.0010801  0.0041566  0.00141554 0.00181156 0.00277552 0.00197153\n",
      "   0.00317972 0.0024281  0.00248032 0.00182804 0.00450306 0.00298328\n",
      "   0.00184661 0.00198182 0.00076812 0.00432643 0.0042577  0.00476384\n",
      "   0.00145567 0.00087347 0.00076916 0.00313155 0.00069259 0.00074441\n",
      "   0.00120971 0.0017387  0.00103152 0.00136369 0.00075493 0.00080537\n",
      "   0.00095395 0.00094994 0.00081635 0.00174441 0.00075748 0.00229922\n",
      "   0.00098663 0.00099667 0.00123443 0.00142433 0.00177244 0.00128949\n",
      "   0.00092516 0.00141457 0.00120529 0.00089022 0.00139414 0.00133802\n",
      "   0.00137038 0.00111258 0.00120882 0.0004558  0.00252862 0.00184527\n",
      "   0.00196282 0.00100827 0.00222477 0.00098242 0.00178676 0.00125188\n",
      "   0.00063064 0.00144704 0.00088278 0.00064592 0.0008597  0.00070838\n",
      "   0.00198891 0.00100419 0.0008678  0.00150463 0.00068731 0.00175777\n",
      "   0.00089471 0.00130686 0.00131798 0.00133551 0.00102982 0.00108023\n",
      "   0.00119273 0.00091774 0.00062293 0.00140257 0.00156238 0.00184354\n",
      "   0.00040744 0.00109975 0.00068522 0.00102209 0.00117734 0.00142467\n",
      "   0.00296932 0.00245287 0.00083311 0.00171365 0.0006935  0.0017012\n",
      "   0.00141832 0.00066453 0.00170112 0.00097206 0.00120436 0.00114971]]]\n",
      "[[[0.23955686 0.05575174 0.03997866 0.02140938 0.0089884  0.00870412\n",
      "   0.03126404 0.0119176  0.00771809 0.00887158 0.00445829 0.00375718\n",
      "   0.00486794 0.00868056 0.01501812 0.00383401 0.00411846 0.01338671\n",
      "   0.00309414 0.01424337 0.00592743 0.00656292 0.00303608 0.00614769\n",
      "   0.00446647 0.00389033 0.00692152 0.00359201 0.00553523 0.007411\n",
      "   0.00866693 0.00109889 0.00365946 0.00525065 0.00177755 0.00200706\n",
      "   0.00447697 0.0066572  0.00361298 0.00596225 0.00199055 0.00239434\n",
      "   0.00203326 0.00174656 0.00086297 0.00202674 0.00220296 0.00578299\n",
      "   0.00233877 0.00156406 0.00254241 0.00260157 0.00367839 0.00184054\n",
      "   0.00322966 0.00282952 0.00223571 0.00324553 0.00298414 0.00386435\n",
      "   0.00400819 0.0032818  0.00146834 0.00309371 0.00100256 0.00156594\n",
      "   0.00084436 0.00483439 0.0067497  0.01597115 0.0051987  0.01210278\n",
      "   0.00314246 0.00263916 0.00100631 0.00362375 0.0032078  0.00451913\n",
      "   0.00385753 0.00196159 0.00217352 0.00159318 0.00133894 0.0045352\n",
      "   0.00133478 0.00342004 0.00284862 0.00172428 0.00187364 0.00199209\n",
      "   0.00193128 0.00254733 0.00390635 0.00258305 0.00178172 0.00547027\n",
      "   0.00231855 0.00195525 0.00187141 0.00198017 0.00203512 0.0046311\n",
      "   0.00225942 0.00163388 0.00328692 0.00168401 0.00128477 0.00190718\n",
      "   0.00211229 0.00196747 0.00302453 0.00131672 0.001632   0.00349429\n",
      "   0.00197373 0.00158874 0.00155621 0.00314495 0.00178601 0.00142009\n",
      "   0.00124304 0.00394463 0.00157301 0.00196127 0.00303406 0.0021653\n",
      "   0.0031799  0.00246999 0.00279658 0.00192128 0.00439083 0.00270368\n",
      "   0.00205883 0.00238492 0.00091303 0.00507812 0.00459951 0.00475097\n",
      "   0.00172871 0.0009658  0.00083608 0.00308862 0.00074662 0.00089993\n",
      "   0.00141621 0.00187478 0.00117975 0.00152737 0.00087316 0.00098839\n",
      "   0.00113599 0.00106605 0.00088868 0.00182661 0.00085305 0.00231461\n",
      "   0.00098426 0.00108842 0.00125635 0.00149343 0.00189855 0.00133948\n",
      "   0.00102921 0.00155655 0.00134555 0.00090468 0.00155472 0.00135058\n",
      "   0.00152899 0.00116752 0.00129199 0.0005114  0.00259905 0.00204391\n",
      "   0.00210343 0.00108925 0.00237264 0.00110844 0.00190208 0.00136\n",
      "   0.0006875  0.00150239 0.00093875 0.00076754 0.00098942 0.00077158\n",
      "   0.00201582 0.00123135 0.00099449 0.0016044  0.00079345 0.0017731\n",
      "   0.0009871  0.00130723 0.00137398 0.00146818 0.00116594 0.00117128\n",
      "   0.0012835  0.00093572 0.00068162 0.00161446 0.00155708 0.00194528\n",
      "   0.00048646 0.00115394 0.00073905 0.00102406 0.00143453 0.00161949\n",
      "   0.00323899 0.00248359 0.00082019 0.00196864 0.00074531 0.00178539\n",
      "   0.00159336 0.00073855 0.00171318 0.00100173 0.00124374 0.0011155 ]]]\n"
     ]
    },
    {
     "ename": "KeyError",
     "evalue": "0",
     "output_type": "error",
     "traceback": [
      "\u001b[1;31m---------------------------------------------------------------------------\u001b[0m",
      "\u001b[1;31mKeyError\u001b[0m                                  Traceback (most recent call last)",
      "\u001b[1;32m<ipython-input-95-8dec183a3fe2>\u001b[0m in \u001b[0;36m<module>\u001b[1;34m\u001b[0m\n\u001b[0;32m      1\u001b[0m \u001b[1;32mfor\u001b[0m \u001b[0mi\u001b[0m \u001b[1;32min\u001b[0m \u001b[0mrange\u001b[0m\u001b[1;33m(\u001b[0m\u001b[1;36m1\u001b[0m\u001b[1;33m)\u001b[0m\u001b[1;33m:\u001b[0m\u001b[1;33m\u001b[0m\u001b[1;33m\u001b[0m\u001b[0m\n\u001b[0;32m      2\u001b[0m   \u001b[0mprint\u001b[0m\u001b[1;33m(\u001b[0m\u001b[1;34m\"Review:\"\u001b[0m\u001b[1;33m,\u001b[0m \u001b[0mtext_predict\u001b[0m\u001b[1;33m)\u001b[0m\u001b[1;33m\u001b[0m\u001b[1;33m\u001b[0m\u001b[0m\n\u001b[1;32m----> 3\u001b[1;33m   \u001b[0mprint\u001b[0m\u001b[1;33m(\u001b[0m\u001b[1;34m\"Predicted summary:\"\u001b[0m\u001b[1;33m,\u001b[0m\u001b[0mdecode_sequence\u001b[0m\u001b[1;33m(\u001b[0m\u001b[0mdataset_predict\u001b[0m\u001b[1;33m)\u001b[0m\u001b[1;33m)\u001b[0m\u001b[1;33m\u001b[0m\u001b[1;33m\u001b[0m\u001b[0m\n\u001b[0m\u001b[0;32m      4\u001b[0m   \u001b[0mprint\u001b[0m\u001b[1;33m(\u001b[0m\u001b[1;34m\"\\n\"\u001b[0m\u001b[1;33m)\u001b[0m\u001b[1;33m\u001b[0m\u001b[1;33m\u001b[0m\u001b[0m\n",
      "\u001b[1;32m<ipython-input-90-d02997bf8a35>\u001b[0m in \u001b[0;36mdecode_sequence\u001b[1;34m(input_seq)\u001b[0m\n\u001b[0;32m     29\u001b[0m         \u001b[0mprint\u001b[0m\u001b[1;33m(\u001b[0m\u001b[0moutput_tokens\u001b[0m\u001b[1;33m)\u001b[0m\u001b[1;33m\u001b[0m\u001b[1;33m\u001b[0m\u001b[0m\n\u001b[0;32m     30\u001b[0m         \u001b[0msampled_token_index\u001b[0m \u001b[1;33m=\u001b[0m \u001b[0mnp\u001b[0m\u001b[1;33m.\u001b[0m\u001b[0mrandom\u001b[0m\u001b[1;33m.\u001b[0m\u001b[0mchoice\u001b[0m\u001b[1;33m(\u001b[0m\u001b[0mlen\u001b[0m\u001b[1;33m(\u001b[0m\u001b[0mprediction_output\u001b[0m\u001b[1;33m)\u001b[0m\u001b[1;33m,\u001b[0m \u001b[0mp\u001b[0m\u001b[1;33m=\u001b[0m\u001b[0mprediction_output\u001b[0m\u001b[1;33m)\u001b[0m\u001b[1;33m\u001b[0m\u001b[1;33m\u001b[0m\u001b[0m\n\u001b[1;32m---> 31\u001b[1;33m         \u001b[0msampled_token\u001b[0m \u001b[1;33m=\u001b[0m \u001b[0mreverse_target_word_index\u001b[0m\u001b[1;33m[\u001b[0m\u001b[0msampled_token_index\u001b[0m\u001b[1;33m]\u001b[0m\u001b[1;33m\u001b[0m\u001b[1;33m\u001b[0m\u001b[0m\n\u001b[0m\u001b[0;32m     32\u001b[0m \u001b[1;33m\u001b[0m\u001b[0m\n\u001b[0;32m     33\u001b[0m         \u001b[1;32mif\u001b[0m\u001b[1;33m(\u001b[0m\u001b[0msampled_token\u001b[0m\u001b[1;33m!=\u001b[0m\u001b[1;34m'eostock'\u001b[0m\u001b[1;33m)\u001b[0m\u001b[1;33m:\u001b[0m\u001b[1;33m\u001b[0m\u001b[1;33m\u001b[0m\u001b[0m\n",
      "\u001b[1;31mKeyError\u001b[0m: 0"
     ]
    }
   ],
   "source": [
    "for i in range(1):\n",
    "  print(\"Review:\", text_predict)\n",
    "  print(\"Predicted summary:\",decode_sequence(dataset_predict))\n",
    "  print(\"\\n\")"
   ]
  },
  {
   "cell_type": "code",
   "execution_count": 95,
   "metadata": {},
   "outputs": [
    {
     "name": "stdout",
     "output_type": "stream",
     "text": [
      "Review: product delivered timely manner tortillas good bread taste color slightly white quite like ones used get store good product \n",
      "Original summary: tortillas by \n",
      "product delivered timely manner tortillas good bread taste color slightly white quite like ones used get store good product \n",
      "(1, 100, 300)\n",
      "(1, 300)\n",
      "(1, 300)\n",
      "(1, 1)\n",
      "(1, 100, 300)\n",
      "(1, 300)\n",
      "(1, 300)\n",
      "[[[2.2644293e-05 7.5475391e-08 2.7483539e-04 ... 8.7105761e-08\n",
      "   8.3369898e-08 8.0078081e-08]]]\n",
      "[[[1.01679805e-04 1.65739120e-08 3.51383299e-01 ... 1.85767401e-08\n",
      "   1.73242132e-08 1.60601878e-08]]]\n",
      "[[[3.32233431e-05 1.27029605e-08 7.60188401e-01 ... 1.21570913e-08\n",
      "   1.27567885e-08 1.48972816e-08]]]\n",
      "[[[4.3308144e-05 1.8223499e-08 5.3989542e-01 ... 1.9247924e-08\n",
      "   1.9651830e-08 1.9543803e-08]]]\n",
      "[[[3.4625624e-05 3.9244668e-08 5.8780092e-01 ... 3.9935887e-08\n",
      "   4.4245066e-08 4.4784127e-08]]]\n",
      "[[[5.6441397e-05 6.7091235e-09 8.0218720e-01 ... 6.5757688e-09\n",
      "   7.5332043e-09 7.3668014e-09]]]\n",
      "Predicted summary:  tasty buy apples spice labeling\n",
      "\n",
      "\n"
     ]
    }
   ],
   "source": [
    "for i in range(1):\n",
    "  print(\"Review:\",seq2text(x_val[i]))\n",
    "  print(\"Original summary:\",seq2summary(y_val[i]))\n",
    "  print(\"Predicted summary:\",decode_sequence(prepareDataPredict(stri.array[0])))\n",
    "  print(\"\\n\")"
   ]
  },
  {
   "cell_type": "code",
   "execution_count": null,
   "metadata": {},
   "outputs": [],
   "source": []
  },
  {
   "cell_type": "code",
   "execution_count": 51,
   "metadata": {},
   "outputs": [],
   "source": [
    "# predict something\n",
    "text = \"The gaming computer is a very cool one. I can do alot of stuff with it, just sometimes, it gets too warm\"\n",
    "text = text_to_sequence(text)\n"
   ]
  },
  {
   "cell_type": "code",
   "execution_count": 52,
   "metadata": {},
   "outputs": [
    {
     "data": {
      "text/plain": [
       "array([[0, 0, 0, ..., 0, 0, 0],\n",
       "       [0, 0, 0, ..., 0, 0, 0],\n",
       "       [0, 0, 0, ..., 0, 0, 0],\n",
       "       ...,\n",
       "       [0, 0, 0, ..., 0, 0, 0],\n",
       "       [0, 0, 0, ..., 0, 0, 0],\n",
       "       [0, 0, 0, ..., 0, 0, 0]])"
      ]
     },
     "execution_count": 52,
     "metadata": {},
     "output_type": "execute_result"
    }
   ],
   "source": [
    "text"
   ]
  },
  {
   "cell_type": "code",
   "execution_count": 43,
   "metadata": {},
   "outputs": [
    {
     "data": {
      "text/plain": [
       "80"
      ]
     },
     "execution_count": 43,
     "metadata": {},
     "output_type": "execute_result"
    }
   ],
   "source": [
    "len(text[0])"
   ]
  },
  {
   "cell_type": "code",
   "execution_count": 44,
   "metadata": {},
   "outputs": [
    {
     "data": {
      "text/plain": [
       "' good the but it tea the too the but'"
      ]
     },
     "execution_count": 44,
     "metadata": {},
     "output_type": "execute_result"
    }
   ],
   "source": [
    "decode_sequence(text[0].reshape(1,max_len_text))"
   ]
  },
  {
   "cell_type": "code",
   "execution_count": null,
   "metadata": {},
   "outputs": [],
   "source": []
  }
 ],
 "metadata": {
  "kernelspec": {
   "display_name": "Python 3",
   "language": "python",
   "name": "python3"
  },
  "language_info": {
   "codemirror_mode": {
    "name": "ipython",
    "version": 3
   },
   "file_extension": ".py",
   "mimetype": "text/x-python",
   "name": "python",
   "nbconvert_exporter": "python",
   "pygments_lexer": "ipython3",
   "version": "3.7.7"
  }
 },
 "nbformat": 4,
 "nbformat_minor": 4
}
